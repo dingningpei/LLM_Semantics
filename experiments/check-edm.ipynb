{
 "cells": [
  {
   "cell_type": "code",
   "execution_count": 1,
   "id": "65ef6fd9-3fac-4a95-bc5c-ccf8b880c558",
   "metadata": {},
   "outputs": [
    {
     "name": "stdout",
     "output_type": "stream",
     "text": [
      "[\"[['edm:EuropeanaAggregation1', 'edm:aggregatedCHO', 'aac-ont:CulturalHeritageObject1'],\\n['edm:EuropeanaAggregation1', 'edm:hasView', 'edm:WebResource1'],\\n['aac-ont:CulturalHeritageObject1', 'dcterms:creator', 'aac-ont:Person1'],\\n['aac-ont:CulturalHeritageObject1', 'foaf:page', 'foaf:Document1'],\\n['aac-ont:CulturalHeritageObject1', 'dcterms:subject', 'skos:Concept1'],\\n['aac-ont:CulturalHeritageObject1', 'edm:isRelatedTo', 'aac-ont:CulturalHeritageObject2'],\\n['aac-ont:CulturalHeritageObject2', 'foaf:page', 'foaf:Document2']]\", \"[['edm:EuropeanaAggregation1', 'edm:aggregatedCHO', 'aac-ont:CulturalHeritageObject1'],\\n['edm:EuropeanaAggregation1', 'edm:hasView', 'edm:WebResource1'],\\n['aac-ont:CulturalHeritageObject1', 'dcterms:creator', 'aac-ont:Person1']]\", '[]', \"[['edm:EuropeanaAggregation1', 'edm:aggregatedCHO', 'aac-ont:CulturalHeritageObject1'],\\n['aac-ont:CulturalHeritageObject1', 'dcterms:creator', 'aac-ont:Person1'],\\n['aac-ont:CulturalHeritageObject1', 'edm:hasType', 'skos:Concept1']]\", \"[['edm:EuropeanaAggregation1', 'edm:aggregatedCHO', 'aac-ont:CulturalHeritageObject1'],\\n['edm:EuropeanaAggregation1', 'edm:hasView', 'edm:WebResource1'],\\n['aac-ont:CulturalHeritageObject1', 'dcterms:creator', 'aac-ont:Person1'],\\n['aac-ont:CulturalHeritageObject1', 'edm:hasType', 'skos:Concept1']]\", \"[['edm:EuropeanaAggregation1', 'edm:aggregatedCHO', 'aac-ont:CulturalHeritageObject1'],\\n['edm:EuropeanaAggregation1', 'edm:hasView', 'edm:WebResource1'],\\n['aac-ont:CulturalHeritageObject1', 'dcterms:creator', 'aac-ont:Person1']]\", \"[['edm:EuropeanaAggregation1', 'edm:aggregatedCHO', 'aac-ont:CulturalHeritageObject1'],\\n['edm:EuropeanaAggregation1', 'edm:hasView', 'edm:WebResource1'],\\n['aac-ont:CulturalHeritageObject1', 'dcterms:creator', 'aac-ont:Person1']]\"]\n"
     ]
    }
   ],
   "source": [
    "import re\n",
    "\n",
    "# Read the file content\n",
    "with open('claude3.5-sonnet-edm/6.txt', 'r') as file:\n",
    "    content = file.read()\n",
    "\n",
    "# Use regex to find all <Step2> sections\n",
    "step2_sections = re.findall(r'<Step2>(.*?)</Step2>', content, re.DOTALL)\n",
    "\n",
    "# Store the extracted sections in a list\n",
    "step2_list = [section.strip() for section in step2_sections]\n",
    "\n",
    "# Print the list to verify\n",
    "print(step2_list)"
   ]
  },
  {
   "cell_type": "code",
   "execution_count": 2,
   "id": "aab0d188-0f17-4f63-9e7c-52e42c1ca83a",
   "metadata": {},
   "outputs": [],
   "source": [
    "import json\n",
    "\n",
    "def load_json(file_path):\n",
    "    with open(file_path, 'r') as file:\n",
    "        return json.load(file)\n",
    "def calculate_precision_recall(gold_semantics, predicted_semantics):\n",
    "    \n",
    "    gold_set = set(tuple(item) for item in gold_semantics)\n",
    "    predicted_set = set(tuple(item) for item in predicted_semantics)\n",
    "\n",
    "    # Calculate true positives, false positives, and false negatives\n",
    "    true_positives = len(gold_set.intersection(predicted_set))\n",
    "    false_positives = len(predicted_set - gold_set)\n",
    "    false_negatives = len(gold_set - predicted_set)\n",
    "    print(f\"Wrong: {str(predicted_set - gold_set)}\")\n",
    "\n",
    "    # Calculate precision and recall\n",
    "    if len(predicted_set) == 1 and len(predicted_set) == 0 and len(gold_set) == 0:\n",
    "        precision = 1\n",
    "        recall = 1\n",
    "    else:\n",
    "        precision = true_positives / (len(predicted_set)) if (true_positives + false_positives) > 0 else 0\n",
    "        recall = true_positives / len(gold_set) if (true_positives + false_negatives) > 0 else 0\n",
    "    return precision, recall"
   ]
  },
  {
   "cell_type": "code",
   "execution_count": 3,
   "id": "c107bbb0-324a-4631-b307-2c3af8ba4d3d",
   "metadata": {},
   "outputs": [],
   "source": [
    "gold_list = [\n",
    "    \"edm-data/models_triples_json/s19-s-indianapolis-artworks-model.json\",\n",
    "    \"edm-data/models_triples_json/s20-s-lacma-model.json\",\n",
    "    \"edm-data/models_triples_json/s11-s-19-artists-model.json\",\n",
    "    \"edm-data/models_triples_json/s28-gilcrease-model.json\",\n",
    "    \"edm-data/models_triples_json/s15-s-detroit-institute-of-art-model.json\",\n",
    "    \"edm-data/models_triples_json/s23-s-norton-simon-model.json\",\n",
    "    \"edm-data/models_triples_json/s13-s-art-institute-of-chicago-model.json\"\n",
    "]\n",
    "pre = []\n",
    "rec = []"
   ]
  },
  {
   "cell_type": "code",
   "execution_count": 4,
   "id": "ed3f4787-bcc8-4470-b87e-0241521511c2",
   "metadata": {},
   "outputs": [
    {
     "name": "stdout",
     "output_type": "stream",
     "text": [
      "Wrong: set()\n",
      "Precision: 1.0\n",
      "Recall: 1.0\n",
      "Wrong: set()\n",
      "Precision: 1.0\n",
      "Recall: 1.0\n",
      "Wrong: {('',)}\n",
      "Precision: 0.0\n",
      "Recall: 0\n",
      "Wrong: {('edm:EuropeanaAggregation1', 'edm:aggregatedCHO', 'aac-ont:CulturalHeritageObject1')}\n",
      "Precision: 0.6666666666666666\n",
      "Recall: 1.0\n",
      "Wrong: set()\n",
      "Precision: 1.0\n",
      "Recall: 1.0\n",
      "Wrong: set()\n",
      "Precision: 1.0\n",
      "Recall: 1.0\n",
      "Wrong: set()\n",
      "Precision: 1.0\n",
      "Recall: 1.0\n",
      "Mean Precision: 0.8095238095238094\n",
      "Mean Recall: 0.8571428571428571\n"
     ]
    }
   ],
   "source": [
    "for i, j in enumerate(gold_list):  \n",
    "    gold_semantics = load_json(j)['internal_link_triples']\n",
    "    predicted_semantics = [i.replace('\\'', '').split(\", \") for i in step2_list[i][2:-2].split(\"],\\n[\")]\n",
    "    precision, recall = calculate_precision_recall(gold_semantics, predicted_semantics)\n",
    "    print(f\"Precision: {precision}\")\n",
    "    print(f\"Recall: {recall}\")\n",
    "    pre.append(precision)\n",
    "    rec.append(recall)\n",
    "print(f\"Mean Precision: {sum(pre) / len(pre)}\")\n",
    "print(f\"Mean Recall: {sum(rec) / len(rec)}\")"
   ]
  },
  {
   "cell_type": "code",
   "execution_count": 5,
   "id": "dadb4eaa-f094-4b37-9ea4-71acd5002813",
   "metadata": {},
   "outputs": [
    {
     "name": "stdout",
     "output_type": "stream",
     "text": [
      "[\"[['ore:Aggregation1', 'edm:aggregatedCHO', 'aac-ont:CulturalHeritageObject1'],\\n ['ore:Aggregation1', 'edm:hasView', 'edm:WebResource1'],\\n ['ore:Aggregation1', 'edm:hasView', 'edm:WebResource2'],\\n ['ore:Aggregation1', 'edm:hasView', 'edm:WebResource3'],\\n ['aac-ont:CulturalHeritageObject1', 'dcterms:creator', 'aac-ont:Person1'],\\n ['aac-ont:CulturalHeritageObject1', 'edm:hasType', 'skos:Concept1'],\\n ['aac-ont:CulturalHeritageObject1', 'edm:isRelatedTo', 'aac-ont:CulturalHeritageObject2'],\\n ['aac-ont:CulturalHeritageObject2', 'dcterms:title', 'relatedArtworksTitle'],\\n ['skos:Concept1', 'skos:prefLabel', 'keywords']]\", \"[['ore:Aggregation1', 'edm:aggregatedCHO', 'aac-ont:CulturalHeritageObject1'],\\n ['ore:Aggregation1', 'edm:hasView', 'edm:WebResource1'],\\n ['aac-ont:CulturalHeritageObject1', 'dcterms:creator', 'aac-ont:Person1']]\", \"[['aac-ont:Person1', 'edm:hasType', 'skos:Concept1']]\", \"[['aac-ont:CulturalHeritageObject1', 'dcterms:creator', 'aac-ont:Person1'],\\n ['aac-ont:CulturalHeritageObject1', 'edm:hasType', 'skos:Concept1']]\", \"[['ore:Aggregation1', 'edm:aggregatedCHO', 'aac-ont:CulturalHeritageObject1'],\\n ['ore:Aggregation1', 'edm:hasView', 'edm:WebResource1'],\\n ['aac-ont:CulturalHeritageObject1', 'edm:creator', 'aac-ont:Person1'],\\n ['aac-ont:CulturalHeritageObject1', 'edm:hasType', 'skos:Concept1']]\", \"[['edm:EuropeanaAggregation1', 'edm:aggregatedCHO', 'aac-ont:CulturalHeritageObject1'],\\n ['edm:EuropeanaAggregation1', 'edm:hasView', 'edm:WebResource1'],\\n ['aac-ont:CulturalHeritageObject1', 'dcterms:creator', 'aac-ont:Person1']]\", \"[['edm:EuropeanaAggregation1', 'edm:aggregatedCHO', 'aac-ont:CulturalHeritageObject1'],\\n ['edm:EuropeanaAggregation1', 'edm:hasView', 'edm:WebResource1'],\\n ['aac-ont:CulturalHeritageObject1', 'dcterms:creator', 'aac-ont:Person1'],\\n ['aac-ont:CulturalHeritageObject1', 'edm:hasType', 'skos:Concept1']]\"]\n"
     ]
    }
   ],
   "source": [
    "import re\n",
    "\n",
    "# Read the file content\n",
    "with open('o1-mini-edm/6.txt', 'r') as file:\n",
    "    content = file.read()\n",
    "\n",
    "# Use regex to find all <Step2> sections\n",
    "step2_sections = re.findall(r'<Step2>(.*?)</Step2>', content, re.DOTALL)\n",
    "\n",
    "# Store the extracted sections in a list\n",
    "step2_list = [section.strip() for section in step2_sections]\n",
    "\n",
    "# Print the list to verify\n",
    "print(step2_list)"
   ]
  },
  {
   "cell_type": "code",
   "execution_count": 6,
   "id": "8a8c760e-2d93-4271-a5be-b1025c62a717",
   "metadata": {},
   "outputs": [
    {
     "name": "stdout",
     "output_type": "stream",
     "text": [
      "Wrong: {('ore:Aggregation1', 'edm:hasView', 'edm:WebResource3'), ('ore:Aggregation1', 'edm:hasView', 'edm:WebResource1'), ('skos:Concept1', 'skos:prefLabel', 'keywords'), ('aac-ont:CulturalHeritageObject1', 'edm:hasType', 'skos:Concept1'), ('ore:Aggregation1', 'edm:hasView', 'edm:WebResource2'), ('ore:Aggregation1', 'edm:aggregatedCHO', 'aac-ont:CulturalHeritageObject1'), ('aac-ont:CulturalHeritageObject2', 'dcterms:title', 'relatedArtworksTitle')}\n",
      "Precision: 0.2222222222222222\n",
      "Recall: 0.2857142857142857\n",
      "Wrong: {('ore:Aggregation1', 'edm:aggregatedCHO', 'aac-ont:CulturalHeritageObject1'), ('ore:Aggregation1', 'edm:hasView', 'edm:WebResource1')}\n",
      "Precision: 0.3333333333333333\n",
      "Recall: 0.3333333333333333\n",
      "Wrong: {('aac-ont:Person1', 'edm:hasType', 'skos:Concept1')}\n",
      "Precision: 0.0\n",
      "Recall: 0\n",
      "Wrong: set()\n",
      "Precision: 1.0\n",
      "Recall: 1.0\n",
      "Wrong: {('aac-ont:CulturalHeritageObject1', 'edm:creator', 'aac-ont:Person1'), ('ore:Aggregation1', 'edm:aggregatedCHO', 'aac-ont:CulturalHeritageObject1'), ('ore:Aggregation1', 'edm:hasView', 'edm:WebResource1')}\n",
      "Precision: 0.25\n",
      "Recall: 0.25\n",
      "Wrong: set()\n",
      "Precision: 1.0\n",
      "Recall: 1.0\n",
      "Wrong: {('aac-ont:CulturalHeritageObject1', 'edm:hasType', 'skos:Concept1')}\n",
      "Precision: 0.75\n",
      "Recall: 1.0\n",
      "Mean Precision: 0.6587301587301587\n",
      "Mean Recall: 0.7049319727891156\n"
     ]
    }
   ],
   "source": [
    "for i, j in enumerate(gold_list):  \n",
    "    gold_semantics = load_json(j)['internal_link_triples']\n",
    "    predicted_semantics = [i.replace('\\'', '').split(\", \") for i in step2_list[i][2:-2].split(\"],\\n [\")]\n",
    "    precision, recall = calculate_precision_recall(gold_semantics, predicted_semantics)\n",
    "    print(f\"Precision: {precision}\")\n",
    "    print(f\"Recall: {recall}\")\n",
    "    pre.append(precision)\n",
    "    rec.append(recall)\n",
    "print(f\"Mean Precision: {sum(pre) / len(pre)}\")\n",
    "print(f\"Mean Recall: {sum(rec) / len(rec)}\")"
   ]
  },
  {
   "cell_type": "code",
   "execution_count": 7,
   "id": "d0a68fb3-04ce-494e-9f3e-97d961332038",
   "metadata": {},
   "outputs": [
    {
     "name": "stdout",
     "output_type": "stream",
     "text": [
      "[\"[['edm:EuropeanaAggregation1', 'edm:aggregatedCHO', 'aac-ont:CulturalHeritageObject1'], ['edm:EuropeanaAggregation1', 'edm:hasView', 'edm:WebResource1'], ['edm:EuropeanaAggregation1', 'edm:hasView', 'edm:WebResource1'], ['aac-ont:CulturalHeritageObject1', 'dcterms:creator', 'aac-ont:Person1'], ['aac-ont:CulturalHeritageObject1', 'edm:isRelatedTo', 'aac-ont:CulturalHeritageObject1'], ['aac-ont:CulturalHeritageObject1', 'dcterms:subject', 'skos:Concept1']]\", \"[['edm:EuropeanaAggregation1', 'edm:aggregatedCHO', 'aac-ont:CulturalHeritageObject1'], ['edm:EuropeanaAggregation1', 'edm:hasView', 'edm:WebResource1'], ['aac-ont:CulturalHeritageObject1', 'dcterms:creator', 'aac-ont:Person1']]\", \"[['aac-ont:Person1', 'ElementsGr2:occupation', 'occupation'], ['aac-ont:Person1', 'ElementsGr2:placeOfBirth', 'Place1'], ['aac-ont:Person1', 'ElementsGr2:placeOfDeath', 'Place2']]\", \"[['edm:EuropeanaAggregation1', 'edm:aggregatedCHO', 'aac-ont:CulturalHeritageObject1'], ['edm:EuropeanaAggregation1', 'edm:hasView', 'edm:WebResource1'], ['aac-ont:CulturalHeritageObject1', 'dcterms:creator', 'aac-ont:Person1'], ['aac-ont:CulturalHeritageObject1', 'edm:hasType', 'skos:Concept1']]\", \"[['edm:EuropeanaAggregation1', 'edm:aggregatedCHO', 'aac-ont:CulturalHeritageObject1'], ['edm:EuropeanaAggregation1', 'edm:hasView', 'edm:WebResource1'], ['aac-ont:CulturalHeritageObject1', 'dcterms:creator', 'aac-ont:Person1'], ['aac-ont:CulturalHeritageObject1', 'edm:hasType', 'skos:Concept1']]\", \"[['edm:EuropeanaAggregation1', 'edm:aggregatedCHO', 'aac-ont:CulturalHeritageObject1'], ['aac-ont:CulturalHeritageObject1', 'dcterms:creator', 'aac-ont:Person1'], ['aac-ont:CulturalHeritageObject1', 'dcterms:subject', 'skos:Concept1']]\", \"[['aac-ont:CulturalHeritageObject1', 'dcterms:creator', 'aac-ont:Person1'], ['aac-ont:CulturalHeritageObject1', 'edm:hasType', 'skos:Concept1'], ['aac-ont:Person1', 'ElementsGr2:placeOfBirth', 'aac-ont:Place1'], ['aac-ont:Person1', 'ElementsGr2:placeOfDeath', 'aac-ont:Place2']]\"]\n"
     ]
    }
   ],
   "source": [
    "import re\n",
    "\n",
    "# Read the file content\n",
    "with open('gpt-4o-mini-edm/6.txt', 'r') as file:\n",
    "    content = file.read()\n",
    "\n",
    "# Use regex to find all <Step2> sections\n",
    "step2_sections = re.findall(r'<Step2>(.*?)</Step2>', content, re.DOTALL)\n",
    "\n",
    "# Store the extracted sections in a list\n",
    "step2_list = [section.strip() for section in step2_sections]\n",
    "\n",
    "# Print the list to verify\n",
    "print(step2_list)"
   ]
  },
  {
   "cell_type": "code",
   "execution_count": 8,
   "id": "5436e4c7-1d15-451f-809f-3569d9bbb65d",
   "metadata": {},
   "outputs": [
    {
     "name": "stdout",
     "output_type": "stream",
     "text": [
      "Wrong: {('aac-ont:CulturalHeritageObject1', 'edm:isRelatedTo', 'aac-ont:CulturalHeritageObject1')}\n",
      "Precision: 0.8\n",
      "Recall: 0.5714285714285714\n",
      "Wrong: set()\n",
      "Precision: 1.0\n",
      "Recall: 1.0\n",
      "Wrong: {('aac-ont:Person1', 'ElementsGr2:placeOfBirth', 'Place1'), ('aac-ont:Person1', 'ElementsGr2:placeOfDeath', 'Place2'), ('aac-ont:Person1', 'ElementsGr2:occupation', 'occupation')}\n",
      "Precision: 0.0\n",
      "Recall: 0\n",
      "Wrong: {('edm:EuropeanaAggregation1', 'edm:aggregatedCHO', 'aac-ont:CulturalHeritageObject1'), ('edm:EuropeanaAggregation1', 'edm:hasView', 'edm:WebResource1')}\n",
      "Precision: 0.5\n",
      "Recall: 1.0\n",
      "Wrong: set()\n",
      "Precision: 1.0\n",
      "Recall: 1.0\n",
      "Wrong: {('aac-ont:CulturalHeritageObject1', 'dcterms:subject', 'skos:Concept1')}\n",
      "Precision: 0.6666666666666666\n",
      "Recall: 0.6666666666666666\n",
      "Wrong: {('aac-ont:Person1', 'ElementsGr2:placeOfBirth', 'aac-ont:Place1'), ('aac-ont:CulturalHeritageObject1', 'edm:hasType', 'skos:Concept1'), ('aac-ont:Person1', 'ElementsGr2:placeOfDeath', 'aac-ont:Place2')}\n",
      "Precision: 0.25\n",
      "Recall: 0.3333333333333333\n",
      "Mean Precision: 0.6399470899470899\n",
      "Mean Recall: 0.687641723356009\n"
     ]
    }
   ],
   "source": [
    "for i, j in enumerate(gold_list):  \n",
    "    gold_semantics = load_json(j)['internal_link_triples']\n",
    "    predicted_semantics = [i.replace('\\'', '').split(\", \") for i in step2_list[i][2:-2].split(\"], [\")]\n",
    "    precision, recall = calculate_precision_recall(gold_semantics, predicted_semantics)\n",
    "    print(f\"Precision: {precision}\")\n",
    "    print(f\"Recall: {recall}\")\n",
    "    pre.append(precision)\n",
    "    rec.append(recall)\n",
    "print(f\"Mean Precision: {sum(pre) / len(pre)}\")\n",
    "print(f\"Mean Recall: {sum(rec) / len(rec)}\")"
   ]
  }
 ],
 "metadata": {
  "kernelspec": {
   "display_name": "prompt-sm",
   "language": "python",
   "name": "prompt-sm"
  },
  "language_info": {
   "codemirror_mode": {
    "name": "ipython",
    "version": 3
   },
   "file_extension": ".py",
   "mimetype": "text/x-python",
   "name": "python",
   "nbconvert_exporter": "python",
   "pygments_lexer": "ipython3",
   "version": "3.10.14"
  }
 },
 "nbformat": 4,
 "nbformat_minor": 5
}
