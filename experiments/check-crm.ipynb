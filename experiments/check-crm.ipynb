{
 "cells": [
  {
   "cell_type": "code",
   "execution_count": 1,
   "id": "ce04f657-9cd2-4312-acd8-1b26678daeb1",
   "metadata": {},
   "outputs": [
    {
     "name": "stdout",
     "output_type": "stream",
     "text": [
      "[\"[['crm:E38_Image1', 'crm:P138_represents', 'crm:E22_Man-Made_Object1'],\\n['crm:E22_Man-Made_Object1', 'crm:P108i_was_produced_by', 'crm:E12_Production1'],\\n['crm:E22_Man-Made_Object1', 'crm:P102_has_title', 'crm:E35_Title1'],\\n['crm:E22_Man-Made_Object1', 'crm:P45_consists_of', 'crm:E57_Material1'],\\n['crm:E22_Man-Made_Object1', 'crm:P43_has_dimension', 'crm:E54_Dimension1'],\\n['crm:E22_Man-Made_Object1', 'crm:P24i_changed_ownership_through', 'crm:E8_Acquisition1'],\\n['crm:E22_Man-Made_Object1', 'crm:P24i_changed_ownership_through', 'crm:E8_Acquisition2'],\\n['crm:E22_Man-Made_Object1', 'crm:P67i_is_referred_to_by', 'crm:E33_Linguistic_Object1'],\\n['crm:E12_Production1', 'crm:P14_carried_out_by', 'crm:E21_Person1'],\\n['crm:E12_Production1', 'crm:P4_has_time-span', 'crm:E52_Time-Span1'],\\n['crm:E21_Person1', 'crm:P131_is_identified_by', 'crm:E82_Actor_Appellation1'],\\n['crm:E21_Person1', 'crm:P107i_is_current_or_former_member_of', 'crm:E74_Group1'],\\n['crm:E21_Person1', 'crm:P98i_was_born', 'crm:E67_Birth1'],\\n['crm:E21_Person1', 'crm:P100i_died_in', 'crm:E69_Death1'],\\n['crm:E67_Birth1', 'crm:P4_has_time-span', 'crm:E52_Time-Span2'],\\n['crm:E69_Death1', 'crm:P4_has_time-span', 'crm:E52_Time-Span3']]\", \"[['crm:E22_Man-Made_Object1', 'crm:P108i_was_produced_by', 'crm:E12_Production1'],\\n['crm:E22_Man-Made_Object1', 'crm:P102_has_title', 'crm:E35_Title1'],\\n['crm:E22_Man-Made_Object1', 'crm:P138i_has_representation', 'crm:E38_Image1'],\\n['crm:E12_Production1', 'crm:P14_carried_out_by', 'crm:E21_Person1'],\\n['crm:E12_Production1', 'crm:P4_has_time-span', 'crm:E52_Time-Span3'],\\n['crm:E21_Person1', 'crm:P131_is_identified_by', 'crm:E82_Actor_Appellation1'],\\n['crm:E21_Person1', 'crm:P98i_was_born', 'crm:E67_Birth1'],\\n['crm:E21_Person1', 'crm:P100i_died_in', 'crm:E69_Death1'],\\n['crm:E67_Birth1', 'crm:P4_has_time-span', 'crm:E52_Time-Span1'],\\n['crm:E69_Death1', 'crm:P4_has_time-span', 'crm:E52_Time-Span2'],\\n['crm:E21_Person1', 'crm:P74_has_current_or_former_residence', 'crm:E53_Place1'],\\n['crm:E33_Linguistic_Object1', 'crm:P129_is_about', 'crm:E22_Man-Made_Object1']]\", \"[['crm:E21_Person1', 'crm:P131_is_identified_by', 'crm:E82_Actor_Appellation1'],\\n['crm:E21_Person1', 'crm:P107i_is_current_or_former_member_of', 'crm:E74_Group1'],\\n['crm:E21_Person1', 'crm:P98i_was_born', 'crm:E67_Birth1'],\\n['crm:E21_Person1', 'crm:P2_has_type', 'crm:E55_Type1'],\\n['crm:E39_Actor1', 'crm:P2_has_type', 'crm:E21_Person1']]\", \"[['crm:E22_Man-Made_Object1', 'crm:P108i_was_produced_by', 'crm:E12_Production1'],\\n['crm:E22_Man-Made_Object1', 'crm:P102_has_title', 'crm:E35_Title1'],\\n['crm:E22_Man-Made_Object1', 'crm:P2_has_type', 'crm:E55_Type1'],\\n['crm:E22_Man-Made_Object1', 'crm:P2_has_type', 'crm:E55_Type2'],\\n['crm:E22_Man-Made_Object1', 'crm:P43_has_dimension', 'crm:E54_Dimension1'],\\n['crm:E12_Production1', 'crm:P14_carried_out_by', 'crm:E21_Person1'],\\n['crm:E12_Production1', 'crm:P32_used_general_technique', 'crm:E55_Type3'],\\n['crm:E12_Production1', 'crm:P4_has_time-span', 'crm:E52_Time-Span1'],\\n['crm:E21_Person1', 'crm:P131_is_identified_by', 'crm:E82_Actor_Appellation1']]\", \"[['crm:E38_Image1', 'crm:P138_represents', 'crm:E22_Man-Made_Object1'],\\n['crm:E22_Man-Made_Object1', 'crm:P108i_was_produced_by', 'crm:E12_Production1'],\\n['crm:E22_Man-Made_Object1', 'crm:P102_has_title', 'crm:E35_Title1'],\\n['crm:E22_Man-Made_Object1', 'crm:P2_has_type', 'crm:E55_Type2'],\\n['crm:E22_Man-Made_Object1', 'crm:P43_has_dimension', 'crm:E54_Dimension1'],\\n['crm:E22_Man-Made_Object1', 'crm:P24i_changed_ownership_through', 'crm:E8_Acquisition1'],\\n['crm:E12_Production1', 'crm:P14_carried_out_by', 'crm:E21_Person1'],\\n['crm:E12_Production1', 'crm:P32_used_general_technique', 'crm:E55_Type1'],\\n['crm:E12_Production1', 'crm:P4_has_time-span', 'crm:E52_Time-Span1'],\\n['crm:E21_Person1', 'crm:P131_is_identified_by', 'crm:E82_Actor_Appellation1'],\\n['crm:E21_Person1', 'crm:P107i_is_current_or_former_member_of', 'crm:E74_Group1'],\\n['crm:E21_Person1', 'crm:P98i_was_born', 'crm:E67_Birth1'],\\n['crm:E21_Person1', 'crm:P100i_died_in', 'crm:E69_Death1'],\\n['crm:E67_Birth1', 'crm:P4_has_time-span', 'crm:E52_Time-Span2'],\\n['crm:E69_Death1', 'crm:P4_has_time-span', 'crm:E52_Time-Span3']]\", \"[['crm:E22_Man-Made_Object1', 'crm:P108i_was_produced_by', 'crm:E12_Production1'],\\n['crm:E22_Man-Made_Object1', 'crm:P102_has_title', 'crm:E35_Title1'],\\n['crm:E22_Man-Made_Object1', 'crm:P43_has_dimension', 'crm:E54_Dimension1'],\\n['crm:E22_Man-Made_Object1', 'crm:P24i_changed_ownership_through', 'crm:E8_Acquisition1'],\\n['crm:E38_Image1', 'crm:P138_represents', 'crm:E22_Man-Made_Object1'],\\n['crm:E12_Production1', 'crm:P14_carried_out_by', 'crm:E21_Person1'],\\n['crm:E12_Production1', 'crm:P4_has_time-span', 'crm:E52_Time-Span3'],\\n['crm:E21_Person1', 'crm:P131_is_identified_by', 'crm:E82_Actor_Appellation1'],\\n['crm:E21_Person1', 'crm:P107i_is_current_or_former_member_of', 'crm:E74_Group1'],\\n['crm:E21_Person1', 'crm:P98i_was_born', 'crm:E67_Birth1'],\\n['crm:E21_Person1', 'crm:P100i_died_in', 'crm:E69_Death1'],\\n['crm:E67_Birth1', 'crm:P4_has_time-span', 'crm:E52_Time-Span1'],\\n['crm:E69_Death1', 'crm:P4_has_time-span', 'crm:E52_Time-Span2']]\", \"[['crm:E38_Image1', 'crm:P138_represents', 'crm:E22_Man-Made_Object1'],\\n['crm:E22_Man-Made_Object1', 'crm:P108i_was_produced_by', 'crm:E12_Production1'],\\n['crm:E22_Man-Made_Object1', 'crm:P102_has_title', 'crm:E35_Title1'],\\n['crm:E22_Man-Made_Object1', 'crm:P2_has_type', 'crm:E55_Type1'],\\n['crm:E22_Man-Made_Object1', 'crm:P24i_changed_ownership_through', 'crm:E8_Acquisition1'],\\n['crm:E22_Man-Made_Object1', 'crm:P43_has_dimension', 'crm:E54_Dimension1'],\\n['crm:E12_Production1', 'crm:P14_carried_out_by', 'crm:E21_Person1'],\\n['crm:E21_Person1', 'crm:P131_is_identified_by', 'crm:E82_Actor_Appellation1'],\\n['crm:E21_Person1', 'crm:P107i_is_current_or_former_member_of', 'crm:E74_Group1'],\\n['crm:E21_Person1', 'crm:P98i_was_born', 'crm:E67_Birth1'],\\n['crm:E21_Person1', 'crm:P100i_died_in', 'crm:E69_Death1'],\\n['crm:E67_Birth1', 'crm:P4_has_time-span', 'crm:E52_Time-Span1'],\\n['crm:E69_Death1', 'crm:P4_has_time-span', 'crm:E52_Time-Span2']]\"]\n"
     ]
    }
   ],
   "source": [
    "import re\n",
    "\n",
    "# Read the file content\n",
    "with open('claude3.5-sonnet-crm/6.txt', 'r') as file:\n",
    "    content = file.read()\n",
    "\n",
    "# Use regex to find all <Step2> sections\n",
    "step2_sections = re.findall(r'<Step2>(.*?)</Step2>', content, re.DOTALL)\n",
    "\n",
    "# Store the extracted sections in a list\n",
    "step2_list = [section.strip() for section in step2_sections]\n",
    "\n",
    "# Print the list to verify\n",
    "print(step2_list)"
   ]
  },
  {
   "cell_type": "code",
   "execution_count": 2,
   "id": "1a1bef63-ecba-4b91-9ffb-6340937b6dd8",
   "metadata": {},
   "outputs": [],
   "source": [
    "import json\n",
    "\n",
    "def load_json(file_path):\n",
    "    with open(file_path, 'r') as file:\n",
    "        return json.load(file)\n",
    "def calculate_precision_recall(gold_semantics, predicted_semantics):\n",
    "    \n",
    "    gold_set = set(tuple(item) for item in gold_semantics)\n",
    "    predicted_set = set(tuple(item) for item in predicted_semantics)\n",
    "\n",
    "    # Calculate true positives, false positives, and false negatives\n",
    "    true_positives = len(gold_set.intersection(predicted_set))\n",
    "    false_positives = len(predicted_set - gold_set)\n",
    "    false_negatives = len(gold_set - predicted_set)\n",
    "    print(f\"Wrong: {str(predicted_set - gold_set)}\")\n",
    "\n",
    "    # Calculate precision and recall\n",
    "    if len(predicted_set) == 1 and len(predicted_set) == 0 and len(gold_set) == 0:\n",
    "        precision = 1\n",
    "        recall = 1\n",
    "    else:\n",
    "        precision = true_positives / (len(predicted_set)) if (true_positives + false_positives) > 0 else 0\n",
    "        recall = true_positives / len(gold_set) if (true_positives + false_negatives) > 0 else 0\n",
    "    return precision, recall"
   ]
  },
  {
   "cell_type": "code",
   "execution_count": 3,
   "id": "8db1f046-951a-46cf-9d45-cc2379953312",
   "metadata": {},
   "outputs": [],
   "source": [
    "gold_list = [\n",
    "    \"crm-data/models_triples_json/s19-s-indianapolis-artworks-model.json\",\n",
    "    \"crm-data/models_triples_json/s20-s-lacma-model.json\",\n",
    "    \"crm-data/models_triples_json/s11-s-19-artists-model.json\",\n",
    "    \"crm-data/models_triples_json/s28-gilcrease-model.json\",\n",
    "    \"crm-data/models_triples_json/s15-s-detroit-institute-of-art-model.json\",\n",
    "    \"crm-data/models_triples_json/s23-s-norton-simon-model.json\",\n",
    "    \"crm-data/models_triples_json/s13-s-art-institute-of-chicago-model.json\"\n",
    "]\n",
    "pre = []\n",
    "rec = []"
   ]
  },
  {
   "cell_type": "code",
   "execution_count": 4,
   "id": "ff5532aa-986a-4b38-92e9-bd8df1ea14b8",
   "metadata": {},
   "outputs": [
    {
     "name": "stdout",
     "output_type": "stream",
     "text": [
      "Wrong: {('crm:E22_Man-Made_Object1', 'crm:P67i_is_referred_to_by', 'crm:E33_Linguistic_Object1'), ('crm:E12_Production1', 'crm:P4_has_time-span', 'crm:E52_Time-Span1'), ('crm:E67_Birth1', 'crm:P4_has_time-span', 'crm:E52_Time-Span2'), ('crm:E22_Man-Made_Object1', 'crm:P24i_changed_ownership_through', 'crm:E8_Acquisition2'), ('crm:E69_Death1', 'crm:P4_has_time-span', 'crm:E52_Time-Span3')}\n",
      "Precision: 0.6875\n",
      "Recall: 0.7333333333333333\n",
      "Wrong: {('crm:E33_Linguistic_Object1', 'crm:P129_is_about', 'crm:E22_Man-Made_Object1'), ('crm:E22_Man-Made_Object1', 'crm:P138i_has_representation', 'crm:E38_Image1')}\n",
      "Precision: 0.8333333333333334\n",
      "Recall: 0.8333333333333334\n",
      "Wrong: {('crm:E21_Person1', 'crm:P107i_is_current_or_former_member_of', 'crm:E74_Group1'), ('crm:E21_Person1', 'crm:P2_has_type', 'crm:E55_Type1'), ('crm:E21_Person1', 'crm:P131_is_identified_by', 'crm:E82_Actor_Appellation1'), ('crm:E21_Person1', 'crm:P98i_was_born', 'crm:E67_Birth1'), ('crm:E39_Actor1', 'crm:P2_has_type', 'crm:E21_Person1')}\n",
      "Precision: 0.0\n",
      "Recall: 0.0\n",
      "Wrong: set()\n",
      "Precision: 1.0\n",
      "Recall: 1.0\n",
      "Wrong: {('crm:E12_Production1', 'crm:P4_has_time-span', 'crm:E52_Time-Span1'), ('crm:E67_Birth1', 'crm:P4_has_time-span', 'crm:E52_Time-Span2'), ('crm:E12_Production1', 'crm:P32_used_general_technique', 'crm:E55_Type1'), ('crm:E22_Man-Made_Object1', 'crm:P2_has_type', 'crm:E55_Type2'), ('crm:E69_Death1', 'crm:P4_has_time-span', 'crm:E52_Time-Span3')}\n",
      "Precision: 0.6666666666666666\n",
      "Recall: 0.6666666666666666\n",
      "Wrong: set()\n",
      "Precision: 1.0\n",
      "Recall: 1.0\n",
      "Wrong: set()\n",
      "Precision: 1.0\n",
      "Recall: 1.0\n",
      "Mean Precision: 0.7410714285714286\n",
      "Mean Recall: 0.7476190476190475\n"
     ]
    }
   ],
   "source": [
    "for i, j in enumerate(gold_list):  \n",
    "    gold_semantics = load_json(j)['internal_link_triples']\n",
    "    predicted_semantics = [i.replace('\\'', '').split(\", \") for i in step2_list[i][2:-2].split(\"],\\n[\")]\n",
    "    precision, recall = calculate_precision_recall(gold_semantics, predicted_semantics)\n",
    "    print(f\"Precision: {precision}\")\n",
    "    print(f\"Recall: {recall}\")\n",
    "    pre.append(precision)\n",
    "    rec.append(recall)\n",
    "print(f\"Mean Precision: {sum(pre) / len(pre)}\")\n",
    "print(f\"Mean Recall: {sum(rec) / len(rec)}\")"
   ]
  },
  {
   "cell_type": "code",
   "execution_count": 5,
   "id": "73dd588e-44a8-4cfb-ac02-0674be3cc6ea",
   "metadata": {},
   "outputs": [
    {
     "name": "stdout",
     "output_type": "stream",
     "text": [
      "[\"[['crm:E38_Image1', 'crm:P138_represents', 'crm:E22_Man-Made_Object1'],\\n ['crm:E22_Man-Made_Object1', 'crm:P108i_was_produced_by', 'crm:E12_Production1'],\\n ['crm:E22_Man-Made_Object1', 'crm:P102_has_title', 'crm:E35_Title1'],\\n ['crm:E22_Man-Made_Object1', 'crm:P2_has_type', 'crm:E55_Type1'],\\n ['crm:E22_Man-Made_Object1', 'crm:P43_has_dimension', 'crm:E54_Dimension1'],\\n ['crm:E12_Production1', 'crm:P14_carried_out_by', 'crm:E21_Person1'],\\n ['crm:E12_Production1', 'crm:P32_used_general_technique', 'crm:E55_Type1'],\\n ['crm:E12_Production1', 'crm:P4_has_time-span', 'crm:E52_Time-Span3'],\\n ['crm:E21_Person1', 'crm:P131_is_identified_by', 'crm:E82_Actor_Appellation1'],\\n ['crm:E21_Person1', 'crm:P98i_was_born', 'crm:E67_Birth1'],\\n ['crm:E21_Person1', 'crm:P100i_died_in', 'crm:E69_Death1'],\\n ['crm:E21_Person1', 'crm:P107i_is_current_or_former_member_of', 'crm:E74_Group1'],\\n ['crm:E67_Birth1', 'crm:P4_has_time-span', 'crm:E52_Time-Span1'],\\n ['crm:E69_Death1', 'crm:P4_has_time-span', 'crm:E52_Time-Span2']]\", \"[['crm:E82_Actor_Appellation1', 'crm:P14_carried_out_by', 'crm:E22_Man-Made_Object1'],\\n ['crm:E82_Actor_Appellation1', 'crm:P98i_was_born', 'crm:E52_Time-Span1'],\\n ['crm:E82_Actor_Appellation1', 'crm:P100i_died_in', 'crm:E52_Time-Span2'],\\n ['crm:E22_Man-Made_Object1', 'crm:P102_has_title', 'crm:E35_Title1'],\\n ['crm:E22_Man-Made_Object1', 'crm:P4_has_time-span', 'crm:E52_Time-Span3'],\\n ['crm:E22_Man-Made_Object1', 'crm:P138_represents', 'crm:E38_Image1'],\\n ['crm:E82_Actor_Appellation1', 'crm:P107i_is_current_or_former_member_of', 'crm:E74_Group1']]\", \"[['crm:E82_Actor_Appellation1', 'crm:P1_is_identified_by', 'crm:E39_Actor1'],\\n ['crm:E39_Actor1', 'crm:P2_has_type', 'crm:E55_Type1'],\\n ['crm:E39_Actor1', 'crm:P74_has_current_or_former_residence', 'crm:E74_Group1'],\\n ['crm:E39_Actor1', 'crm:P4_has_time-span', 'crm:E67_Birth1']]\", \"[['crm:E22_Man-Made_Object1', 'crm:P102_has_title', 'crm:E35_Title1'],\\n ['crm:E22_Man-Made_Object1', 'crm:P2_has_type', 'crm:E55_Type1'],\\n ['crm:E22_Man-Made_Object1', 'crm:P2_has_type', 'crm:E55_Type2'],\\n ['crm:E22_Man-Made_Object1', 'crm:P3_has_note', 'crm:E54_Dimension1'],\\n ['crm:E22_Man-Made_Object1', 'crm:P108i_was_produced_by', 'crm:E82_Actor_Appellation1'],\\n ['crm:E22_Man-Made_Object1', 'crm:P4_has_time-span', 'crm:E52_Time-Span1']]\", \"[['crm:E38_Image1', 'crm:P138_represents', 'crm:E35_Title1'],\\n ['crm:E35_Title1', 'crm:P2_has_type', 'crm:E55_Type1'],\\n ['crm:E35_Title1', 'crm:P2_has_type', 'crm:E55_Type2'],\\n ['crm:E35_Title1', 'crm:P3_has_note', 'crm:E8_Acquisition1'],\\n ['crm:E35_Title1', 'crm:P43_has_dimension', 'crm:E54_Dimension1'],\\n ['crm:E82_Actor_Appellation1', 'crm:P131_is_identified_by', 'crm:E82_Actor_Appellation1'],\\n ['crm:E82_Actor_Appellation1', 'crm:P82_at_some_time_within', 'crm:E52_Time-Span1'],\\n ['crm:E82_Actor_Appellation1', 'crm:P82_at_some_time_within', 'crm:E52_Time-Span2'],\\n ['crm:E82_Actor_Appellation1', 'crm:P75_possesses', 'crm:E74_Group1']]\", \"[['crm:E38_Image1', 'crm:P138_represents', 'crm:E22_Man-Made_Object1'],\\n ['crm:E22_Man-Made_Object1', 'crm:P108i_was_produced_by', 'crm:E82_Actor_Appellation1'],\\n ['crm:E22_Man-Made_Object1', 'crm:P102_has_title', 'crm:E35_Title1'],\\n ['crm:E22_Man-Made_Object1', 'crm:P2_has_type', 'crm:E55_Type1'],\\n ['crm:E22_Man-Made_Object1', 'crm:P43_has_dimension', 'crm:E54_Dimension1'],\\n ['crm:E22_Man-Made_Object1', 'crm:P24i_changed_ownership_through', 'crm:E8_Acquisition1'],\\n ['crm:E8_Acquisition1', 'crm:P14_carried_out_by', 'crm:E21_Person1'],\\n ['crm:E8_Acquisition1', 'crm:P4_has_time-span', 'crm:E52_Time-Span3'],\\n ['crm:E21_Person1', 'crm:P131_is_identified_by', 'crm:E82_Actor_Appellation1'],\\n ['crm:E21_Person1', 'crm:P98i_was_born', 'crm:E67_Birth1'],\\n ['crm:E21_Person1', 'crm:P100i_died_in', 'crm:E69_Death1'],\\n ['crm:E21_Person1', 'crm:P107i_is_current_or_former_member_of', 'crm:E74_Group1'],\\n ['crm:E67_Birth1', 'crm:P4_has_time-span', 'crm:E52_Time-Span1'],\\n ['crm:E69_Death1', 'crm:P4_has_time-span', 'crm:E52_Time-Span2']]\", \"[['crm:E22_Man-Made_Object1', 'crm:P2_has_type', 'crm:E55_Type1'],\\n ['crm:E22_Man-Made_Object1', 'crm:P102_has_title', 'crm:E35_Title1'],\\n ['crm:E22_Man-Made_Object1', 'crm:P43_has_dimension', 'crm:E54_Dimension1'],\\n ['crm:E22_Man-Made_Object1', 'crm:P24i_changed_ownership_through', 'crm:E8_Acquisition1'],\\n ['crm:E8_Acquisition1', 'crm:P14_carried_out_by', 'crm:E82_Actor_Appellation1'],\\n ['crm:E82_Actor_Appellation1', 'crm:P74_has_current_or_former_residence', 'crm:E74_Group1'],\\n ['crm:E82_Actor_Appellation1', 'crm:P35_has_identified', 'crm:E52_Time-Span1'],\\n ['crm:E82_Actor_Appellation1', 'crm:P35_has_identified', 'crm:E52_Time-Span2'],\\n ['crm:E38_Image1', 'crm:P138_represents', 'crm:E22_Man-Made_Object1']]\"]\n"
     ]
    }
   ],
   "source": [
    "import re\n",
    "\n",
    "# Read the file content\n",
    "with open('o1-mini-crm/6.txt', 'r') as file:\n",
    "    content = file.read()\n",
    "\n",
    "# Use regex to find all <Step2> sections\n",
    "step2_sections = re.findall(r'<Step2>(.*?)</Step2>', content, re.DOTALL)\n",
    "\n",
    "# Store the extracted sections in a list\n",
    "step2_list = [section.strip() for section in step2_sections]\n",
    "\n",
    "# Print the list to verify\n",
    "print(step2_list)"
   ]
  },
  {
   "cell_type": "code",
   "execution_count": 6,
   "id": "cc09a90f-dd92-4ea5-b762-d448affc071d",
   "metadata": {},
   "outputs": [
    {
     "name": "stdout",
     "output_type": "stream",
     "text": [
      "Wrong: {('crm:E12_Production1', 'crm:P32_used_general_technique', 'crm:E55_Type1'), ('crm:E22_Man-Made_Object1', 'crm:P2_has_type', 'crm:E55_Type1')}\n",
      "Precision: 0.8571428571428571\n",
      "Recall: 0.8\n",
      "Wrong: {('crm:E82_Actor_Appellation1', 'crm:P98i_was_born', 'crm:E52_Time-Span1'), ('crm:E82_Actor_Appellation1', 'crm:P100i_died_in', 'crm:E52_Time-Span2'), ('crm:E22_Man-Made_Object1', 'crm:P138_represents', 'crm:E38_Image1'), ('crm:E82_Actor_Appellation1', 'crm:P107i_is_current_or_former_member_of', 'crm:E74_Group1'), ('crm:E22_Man-Made_Object1', 'crm:P4_has_time-span', 'crm:E52_Time-Span3'), ('crm:E82_Actor_Appellation1', 'crm:P14_carried_out_by', 'crm:E22_Man-Made_Object1')}\n",
      "Precision: 0.14285714285714285\n",
      "Recall: 0.08333333333333333\n",
      "Wrong: {('crm:E82_Actor_Appellation1', 'crm:P1_is_identified_by', 'crm:E39_Actor1'), ('crm:E39_Actor1', 'crm:P4_has_time-span', 'crm:E67_Birth1'), ('crm:E39_Actor1', 'crm:P74_has_current_or_former_residence', 'crm:E74_Group1'), ('crm:E39_Actor1', 'crm:P2_has_type', 'crm:E55_Type1')}\n",
      "Precision: 0.0\n",
      "Recall: 0.0\n",
      "Wrong: {('crm:E22_Man-Made_Object1', 'crm:P3_has_note', 'crm:E54_Dimension1'), ('crm:E22_Man-Made_Object1', 'crm:P108i_was_produced_by', 'crm:E82_Actor_Appellation1'), ('crm:E22_Man-Made_Object1', 'crm:P4_has_time-span', 'crm:E52_Time-Span1')}\n",
      "Precision: 0.5\n",
      "Recall: 0.3333333333333333\n",
      "Wrong: {('crm:E38_Image1', 'crm:P138_represents', 'crm:E35_Title1'), ('crm:E35_Title1', 'crm:P2_has_type', 'crm:E55_Type1'), ('crm:E82_Actor_Appellation1', 'crm:P82_at_some_time_within', 'crm:E52_Time-Span2'), ('crm:E35_Title1', 'crm:P2_has_type', 'crm:E55_Type2'), ('crm:E82_Actor_Appellation1', 'crm:P75_possesses', 'crm:E74_Group1'), ('crm:E35_Title1', 'crm:P43_has_dimension', 'crm:E54_Dimension1'), ('crm:E35_Title1', 'crm:P3_has_note', 'crm:E8_Acquisition1'), ('crm:E82_Actor_Appellation1', 'crm:P131_is_identified_by', 'crm:E82_Actor_Appellation1'), ('crm:E82_Actor_Appellation1', 'crm:P82_at_some_time_within', 'crm:E52_Time-Span1')}\n",
      "Precision: 0.0\n",
      "Recall: 0.0\n",
      "Wrong: {('crm:E8_Acquisition1', 'crm:P14_carried_out_by', 'crm:E21_Person1'), ('crm:E8_Acquisition1', 'crm:P4_has_time-span', 'crm:E52_Time-Span3'), ('crm:E22_Man-Made_Object1', 'crm:P2_has_type', 'crm:E55_Type1'), ('crm:E22_Man-Made_Object1', 'crm:P108i_was_produced_by', 'crm:E82_Actor_Appellation1')}\n",
      "Precision: 0.7142857142857143\n",
      "Recall: 0.7692307692307693\n",
      "Wrong: {('crm:E82_Actor_Appellation1', 'crm:P35_has_identified', 'crm:E52_Time-Span1'), ('crm:E8_Acquisition1', 'crm:P14_carried_out_by', 'crm:E82_Actor_Appellation1'), ('crm:E82_Actor_Appellation1', 'crm:P74_has_current_or_former_residence', 'crm:E74_Group1'), ('crm:E82_Actor_Appellation1', 'crm:P35_has_identified', 'crm:E52_Time-Span2')}\n",
      "Precision: 0.5555555555555556\n",
      "Recall: 0.38461538461538464\n",
      "Mean Precision: 0.5683815192743764\n",
      "Mean Recall: 0.5431318681318681\n"
     ]
    }
   ],
   "source": [
    "for i, j in enumerate(gold_list):  \n",
    "    gold_semantics = load_json(j)['internal_link_triples']\n",
    "    predicted_semantics = [i.replace('\\'', '').split(\", \") for i in step2_list[i][2:-2].split(\"],\\n [\")]\n",
    "    precision, recall = calculate_precision_recall(gold_semantics, predicted_semantics)\n",
    "    print(f\"Precision: {precision}\")\n",
    "    print(f\"Recall: {recall}\")\n",
    "    pre.append(precision)\n",
    "    rec.append(recall)\n",
    "print(f\"Mean Precision: {sum(pre) / len(pre)}\")\n",
    "print(f\"Mean Recall: {sum(rec) / len(rec)}\")"
   ]
  },
  {
   "cell_type": "code",
   "execution_count": 7,
   "id": "747cbfe8-0b05-4c87-9ebc-d3e6a34b36af",
   "metadata": {},
   "outputs": [
    {
     "name": "stdout",
     "output_type": "stream",
     "text": [
      "[\"[['crm:E38_Image1', 'crm:P138_represents', 'crm:E22_Man-Made_Object1'], ['crm:E22_Man-Made_Object1', 'crm:P108i_was_produced_by', 'crm:E12_Production1'], ['crm:E22_Man-Made_Object1', 'crm:P102_has_title', 'crm:E35_Title1'], ['crm:E22_Man-Made_Object1', 'crm:P51_has_former_or_current_owner', 'crm:E40_Legal_Body1'], ['crm:E22_Man-Made_Object1', 'crm:P43_has_dimension', 'crm:E54_Dimension1'], ['crm:E12_Production1', 'crm:P14_carried_out_by', 'crm:E21_Person1'], ['crm:E12_Production1', 'crm:P4_has_time-span', 'crm:E52_Time-Span1'], ['crm:E21_Person1', 'crm:P131_is_identified_by', 'crm:E82_Actor_Appellation1']]\", \"[['crm:E82_Actor_Appellation1', 'crm:P131_is_identified_by', 'crm:E39_Actor1'], ['crm:E39_Actor1', 'crm:P98i_was_born', 'crm:E67_Birth1'], ['crm:E39_Actor1', 'crm:P100i_died_in', 'crm:E69_Death1'], ['crm:E67_Birth1', 'crm:P4_has_time-span', 'crm:E52_Time-Span1'], ['crm:E69_Death1', 'crm:P4_has_time-span', 'crm:E52_Time-Span2'], ['crm:E39_Actor1', 'crm:P107i_is_current_or_former_member_of', 'crm:E74_Group1'], ['crm:E22_Man-Made_Object1', 'crm:P108i_was_produced_by', 'crm:E12_Production1'], ['crm:E22_Man-Made_Object1', 'crm:P102_has_title', 'crm:E35_Title1'], ['crm:E22_Man-Made_Object1', 'crm:P24i_changed_ownership_through', 'crm:E8_Acquisition1'], ['crm:E22_Man-Made_Object1', 'crm:P43_has_dimension', 'crm:E54_Dimension1'], ['crm:E12_Production1', 'crm:P14_carried_out_by', 'crm:E39_Actor1'], ['crm:E12_Production1', 'crm:P4_has_time-span', 'crm:E52_Time-Span3']]\", \"[['crm:E39_Actor1', 'crm:P131_is_identified_by', 'crm:E82_Actor_Appellation1'], ['crm:E74_Group1', 'crm:P68_foresees_use_of', 'crm:E39_Actor1'], ['crm:E39_Actor1', 'crm:P102_has_title', 'crm:E8_Acquisition1']]\", \"[['crm:E22_Man-Made_Object1', 'crm:P102_has_title', 'crm:E35_Title1'], ['crm:E22_Man-Made_Object1', 'crm:P108i_was_produced_by', 'crm:E12_Production1'], ['crm:E12_Production1', 'crm:P14_carried_out_by', 'crm:E82_Actor_Appellation1'], ['crm:E12_Production1', 'crm:P4_has_time-span', 'crm:E52_Time-Span1'], ['crm:E22_Man-Made_Object1', 'crm:P2_has_type', 'crm:E55_Type1'], ['crm:E22_Man-Made_Object1', 'crm:P43_has_dimension', 'crm:E54_Dimension1'], ['crm:E22_Man-Made_Object1', 'crm:P3_has_note', 'crm:E8_Acquisition1'], ['crm:E8_Acquisition1', 'crm:P3_has_note', 'crm:E8_Acquisition1']]\", \"[['crm:E38_Image1', 'crm:P138_represents', 'crm:E22_Man-Made_Object1'], ['crm:E22_Man-Made_Object1', 'crm:P108i_was_produced_by', 'crm:E12_Production1'], ['crm:E22_Man-Made_Object1', 'crm:P102_has_title', 'crm:E35_Title1'], ['crm:E22_Man-Made_Object1', 'crm:P4_has_time-span', 'crm:E52_Time-Span1'], ['crm:E22_Man-Made_Object1', 'crm:P43_has_dimension', 'crm:E54_Dimension1'], ['crm:E22_Man-Made_Object1', 'crm:P104_is_subject_to', 'crm:E30_Right1'], ['crm:E22_Man-Made_Object1', 'crm:P2_has_type', 'crm:E55_Type1'], ['crm:E12_Production1', 'crm:P14_carried_out_by', 'crm:E39_Actor1'], ['crm:E39_Actor1', 'crm:P98i_was_born', 'crm:E67_Birth1'], ['crm:E39_Actor1', 'crm:P100i_died_in', 'crm:E69_Death1'], ['crm:E67_Birth1', 'crm:P4_has_time-span', 'crm:E52_Time-Span1'], ['crm:E69_Death1', 'crm:P4_has_time-span', 'crm:E52_Time-Span2']]\", \"[['crm:E82_Actor_Appellation1', 'crm:P131_is_identified_by', 'crm:E74_Group1'], ['crm:E82_Actor_Appellation1', 'crm:P98i_was_born', 'crm:E52_Time-Span1'], ['crm:E82_Actor_Appellation1', 'crm:P100i_died_in', 'crm:E52_Time-Span2'], ['crm:E82_Actor_Appellation1', 'crm:P3_has_note', 'crm:E8_Acquisition1'], ['crm:E35_Title1', 'crm:P108i_was_produced_by', 'crm:E12_Production1'], ['crm:E12_Production1', 'crm:P4_has_time-span', 'crm:E52_Time-Span3'], ['crm:E38_Image1', 'crm:P138_represents', 'crm:E8_Acquisition1'], ['crm:E12_Production1', 'crm:P28_custody_received_by', 'crm:E74_Group1']]\", \"[['crm:E82_Actor_Appellation1', 'crm:P131_is_identified_by', 'crm:E22_Man-Made_Object1'], ['crm:E22_Man-Made_Object1', 'crm:P102_has_title', 'crm:E35_Title1'], ['crm:E22_Man-Made_Object1', 'crm:P2_has_type', 'crm:E55_Type1'], ['crm:E22_Man-Made_Object1', 'crm:P43_has_dimension', 'crm:E54_Dimension1'], ['crm:E22_Man-Made_Object1', 'crm:P24i_changed_ownership_through', 'crm:E8_Acquisition1'], ['crm:E8_Acquisition1', 'crm:P3_has_note', 'credit'], ['crm:E22_Man-Made_Object1', 'crm:P108i_was_produced_by', 'crm:E12_Production1'], ['crm:E12_Production1', 'crm:P14_carried_out_by', 'crm:E39_Actor1'], ['crm:E39_Actor1', 'crm:P98i_was_born', 'crm:E67_Birth1'], ['crm:E39_Actor1', 'crm:P100i_died_in', 'crm:E69_Death1'], ['crm:E67_Birth1', 'crm:P4_has_time-span', 'crm:E52_Time-Span1'], ['crm:E69_Death1', 'crm:P4_has_time-span', 'crm:E52_Time-Span2']]\"]\n"
     ]
    }
   ],
   "source": [
    "import re\n",
    "\n",
    "# Read the file content\n",
    "with open('gpt-4o-mini-crm/6.txt', 'r') as file:\n",
    "    content = file.read()\n",
    "\n",
    "# Use regex to find all <Step2> sections\n",
    "step2_sections = re.findall(r'<Step2>(.*?)</Step2>', content, re.DOTALL)\n",
    "\n",
    "# Store the extracted sections in a list\n",
    "step2_list = [section.strip() for section in step2_sections]\n",
    "\n",
    "# Print the list to verify\n",
    "print(step2_list)"
   ]
  },
  {
   "cell_type": "code",
   "execution_count": 8,
   "id": "7f2db416-9f56-4fe1-a5e9-31d6ce754ca8",
   "metadata": {},
   "outputs": [
    {
     "name": "stdout",
     "output_type": "stream",
     "text": [
      "Wrong: {('crm:E12_Production1', 'crm:P4_has_time-span', 'crm:E52_Time-Span1'), ('crm:E22_Man-Made_Object1', 'crm:P51_has_former_or_current_owner', 'crm:E40_Legal_Body1')}\n",
      "Precision: 0.75\n",
      "Recall: 0.4\n",
      "Wrong: {('crm:E39_Actor1', 'crm:P98i_was_born', 'crm:E67_Birth1'), ('crm:E22_Man-Made_Object1', 'crm:P43_has_dimension', 'crm:E54_Dimension1'), ('crm:E12_Production1', 'crm:P14_carried_out_by', 'crm:E39_Actor1'), ('crm:E22_Man-Made_Object1', 'crm:P24i_changed_ownership_through', 'crm:E8_Acquisition1'), ('crm:E39_Actor1', 'crm:P107i_is_current_or_former_member_of', 'crm:E74_Group1'), ('crm:E39_Actor1', 'crm:P100i_died_in', 'crm:E69_Death1'), ('crm:E82_Actor_Appellation1', 'crm:P131_is_identified_by', 'crm:E39_Actor1')}\n",
      "Precision: 0.4166666666666667\n",
      "Recall: 0.4166666666666667\n",
      "Wrong: {('crm:E74_Group1', 'crm:P68_foresees_use_of', 'crm:E39_Actor1'), ('crm:E39_Actor1', 'crm:P102_has_title', 'crm:E8_Acquisition1')}\n",
      "Precision: 0.3333333333333333\n",
      "Recall: 0.25\n",
      "Wrong: {('crm:E22_Man-Made_Object1', 'crm:P3_has_note', 'crm:E8_Acquisition1'), ('crm:E8_Acquisition1', 'crm:P3_has_note', 'crm:E8_Acquisition1'), ('crm:E12_Production1', 'crm:P14_carried_out_by', 'crm:E82_Actor_Appellation1')}\n",
      "Precision: 0.625\n",
      "Recall: 0.5555555555555556\n",
      "Wrong: {('crm:E22_Man-Made_Object1', 'crm:P104_is_subject_to', 'crm:E30_Right1'), ('crm:E39_Actor1', 'crm:P98i_was_born', 'crm:E67_Birth1'), ('crm:E12_Production1', 'crm:P14_carried_out_by', 'crm:E39_Actor1'), ('crm:E39_Actor1', 'crm:P100i_died_in', 'crm:E69_Death1'), ('crm:E22_Man-Made_Object1', 'crm:P4_has_time-span', 'crm:E52_Time-Span1')}\n",
      "Precision: 0.5833333333333334\n",
      "Recall: 0.4666666666666667\n",
      "Wrong: {('crm:E82_Actor_Appellation1', 'crm:P131_is_identified_by', 'crm:E74_Group1'), ('crm:E82_Actor_Appellation1', 'crm:P98i_was_born', 'crm:E52_Time-Span1'), ('crm:E82_Actor_Appellation1', 'crm:P100i_died_in', 'crm:E52_Time-Span2'), ('crm:E38_Image1', 'crm:P138_represents', 'crm:E8_Acquisition1'), ('crm:E35_Title1', 'crm:P108i_was_produced_by', 'crm:E12_Production1'), ('crm:E12_Production1', 'crm:P28_custody_received_by', 'crm:E74_Group1'), ('crm:E82_Actor_Appellation1', 'crm:P3_has_note', 'crm:E8_Acquisition1')}\n",
      "Precision: 0.125\n",
      "Recall: 0.07692307692307693\n",
      "Wrong: {('crm:E82_Actor_Appellation1', 'crm:P131_is_identified_by', 'crm:E22_Man-Made_Object1'), ('crm:E39_Actor1', 'crm:P98i_was_born', 'crm:E67_Birth1'), ('crm:E12_Production1', 'crm:P14_carried_out_by', 'crm:E39_Actor1'), ('crm:E8_Acquisition1', 'crm:P3_has_note', 'credit'), ('crm:E39_Actor1', 'crm:P100i_died_in', 'crm:E69_Death1')}\n",
      "Precision: 0.5833333333333334\n",
      "Recall: 0.5384615384615384\n",
      "Mean Precision: 0.541619425547997\n",
      "Mean Recall: 0.49086284086284077\n"
     ]
    }
   ],
   "source": [
    "for i, j in enumerate(gold_list):  \n",
    "    gold_semantics = load_json(j)['internal_link_triples']\n",
    "    predicted_semantics = [i.replace('\\'', '').split(\", \") for i in step2_list[i][2:-2].split(\"], [\")]\n",
    "    precision, recall = calculate_precision_recall(gold_semantics, predicted_semantics)\n",
    "    print(f\"Precision: {precision}\")\n",
    "    print(f\"Recall: {recall}\")\n",
    "    pre.append(precision)\n",
    "    rec.append(recall)\n",
    "print(f\"Mean Precision: {sum(pre) / len(pre)}\")\n",
    "print(f\"Mean Recall: {sum(rec) / len(rec)}\")"
   ]
  }
 ],
 "metadata": {
  "kernelspec": {
   "display_name": "prompt-sm",
   "language": "python",
   "name": "prompt-sm"
  },
  "language_info": {
   "codemirror_mode": {
    "name": "ipython",
    "version": 3
   },
   "file_extension": ".py",
   "mimetype": "text/x-python",
   "name": "python",
   "nbconvert_exporter": "python",
   "pygments_lexer": "ipython3",
   "version": "3.10.14"
  }
 },
 "nbformat": 4,
 "nbformat_minor": 5
}
