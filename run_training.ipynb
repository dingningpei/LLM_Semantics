{
  "cells": [
    {
      "cell_type": "code",
      "execution_count": 1,
      "metadata": {
        "colab": {
          "base_uri": "https://localhost:8080/"
        },
        "id": "Au9Zs43Cd5jq",
        "outputId": "31cd2aa7-bda8-4216-e2d8-6f7858a728fe"
      },
      "outputs": [
        {
          "name": "stdout",
          "output_type": "stream",
          "text": [
            "Mounted at /content/drive\n",
            "/content/drive/MyDrive/Prompt_Semantic\n",
            "/content/drive/MyDrive/Prompt_Semantic\n"
          ]
        }
      ],
      "source": [
        "from google.colab import drive\n",
        "drive.mount('/content/drive')\n",
        "%cd \"/content/drive/MyDrive/Prompt_Semantic\"\n",
        "!pwd"
      ]
    },
    {
      "cell_type": "code",
      "execution_count": 3,
      "metadata": {
        "colab": {
          "base_uri": "https://localhost:8080/"
        },
        "id": "Xx4O3lWeeFFq",
        "outputId": "04370fba-5995-4264-e8ba-13ad65eeaaee"
      },
      "outputs": [
        {
          "name": "stdout",
          "output_type": "stream",
          "text": [
            "Collecting git+https://github.com/huggingface/transformers (from -r requirements.txt (line 4))\n",
            "  Cloning https://github.com/huggingface/transformers to /tmp/pip-req-build-uj5bje7b\n",
            "  Running command git clone --filter=blob:none --quiet https://github.com/huggingface/transformers /tmp/pip-req-build-uj5bje7b\n",
            "  Resolved https://github.com/huggingface/transformers to commit 746104ba6f0514159d58dc2fb09c887d0e9d4863\n",
            "  Installing build dependencies ... \u001b[?25l\u001b[?25hdone\n",
            "  Getting requirements to build wheel ... \u001b[?25l\u001b[?25hdone\n",
            "  Preparing metadata (pyproject.toml) ... \u001b[?25l\u001b[?25hdone\n",
            "Collecting rdflib (from -r requirements.txt (line 1))\n",
            "  Downloading rdflib-7.0.0-py3-none-any.whl.metadata (11 kB)\n",
            "Requirement already satisfied: pandas in /usr/local/lib/python3.10/dist-packages (from -r requirements.txt (line 2)) (2.1.4)\n",
            "Requirement already satisfied: pydot in /usr/local/lib/python3.10/dist-packages (from -r requirements.txt (line 3)) (1.4.2)\n",
            "Collecting gguf (from -r requirements.txt (line 5))\n",
            "  Downloading gguf-0.10.0-py3-none-any.whl.metadata (3.5 kB)\n",
            "Collecting isodate<0.7.0,>=0.6.0 (from rdflib->-r requirements.txt (line 1))\n",
            "  Downloading isodate-0.6.1-py2.py3-none-any.whl.metadata (9.6 kB)\n",
            "Requirement already satisfied: pyparsing<4,>=2.1.0 in /usr/local/lib/python3.10/dist-packages (from rdflib->-r requirements.txt (line 1)) (3.1.4)\n",
            "Requirement already satisfied: numpy<2,>=1.22.4 in /usr/local/lib/python3.10/dist-packages (from pandas->-r requirements.txt (line 2)) (1.26.4)\n",
            "Requirement already satisfied: python-dateutil>=2.8.2 in /usr/local/lib/python3.10/dist-packages (from pandas->-r requirements.txt (line 2)) (2.8.2)\n",
            "Requirement already satisfied: pytz>=2020.1 in /usr/local/lib/python3.10/dist-packages (from pandas->-r requirements.txt (line 2)) (2024.1)\n",
            "Requirement already satisfied: tzdata>=2022.1 in /usr/local/lib/python3.10/dist-packages (from pandas->-r requirements.txt (line 2)) (2024.1)\n",
            "Requirement already satisfied: filelock in /usr/local/lib/python3.10/dist-packages (from transformers==4.45.0.dev0->-r requirements.txt (line 4)) (3.15.4)\n",
            "Requirement already satisfied: huggingface-hub<1.0,>=0.23.2 in /usr/local/lib/python3.10/dist-packages (from transformers==4.45.0.dev0->-r requirements.txt (line 4)) (0.23.5)\n",
            "Requirement already satisfied: packaging>=20.0 in /usr/local/lib/python3.10/dist-packages (from transformers==4.45.0.dev0->-r requirements.txt (line 4)) (24.1)\n",
            "Requirement already satisfied: pyyaml>=5.1 in /usr/local/lib/python3.10/dist-packages (from transformers==4.45.0.dev0->-r requirements.txt (line 4)) (6.0.2)\n",
            "Requirement already satisfied: regex!=2019.12.17 in /usr/local/lib/python3.10/dist-packages (from transformers==4.45.0.dev0->-r requirements.txt (line 4)) (2024.5.15)\n",
            "Requirement already satisfied: requests in /usr/local/lib/python3.10/dist-packages (from transformers==4.45.0.dev0->-r requirements.txt (line 4)) (2.32.3)\n",
            "Requirement already satisfied: tokenizers<0.20,>=0.19 in /usr/local/lib/python3.10/dist-packages (from transformers==4.45.0.dev0->-r requirements.txt (line 4)) (0.19.1)\n",
            "Requirement already satisfied: safetensors>=0.4.1 in /usr/local/lib/python3.10/dist-packages (from transformers==4.45.0.dev0->-r requirements.txt (line 4)) (0.4.4)\n",
            "Requirement already satisfied: tqdm>=4.27 in /usr/local/lib/python3.10/dist-packages (from transformers==4.45.0.dev0->-r requirements.txt (line 4)) (4.66.5)\n",
            "Requirement already satisfied: fsspec>=2023.5.0 in /usr/local/lib/python3.10/dist-packages (from huggingface-hub<1.0,>=0.23.2->transformers==4.45.0.dev0->-r requirements.txt (line 4)) (2024.6.1)\n",
            "Requirement already satisfied: typing-extensions>=3.7.4.3 in /usr/local/lib/python3.10/dist-packages (from huggingface-hub<1.0,>=0.23.2->transformers==4.45.0.dev0->-r requirements.txt (line 4)) (4.12.2)\n",
            "Requirement already satisfied: six in /usr/local/lib/python3.10/dist-packages (from isodate<0.7.0,>=0.6.0->rdflib->-r requirements.txt (line 1)) (1.16.0)\n",
            "Requirement already satisfied: charset-normalizer<4,>=2 in /usr/local/lib/python3.10/dist-packages (from requests->transformers==4.45.0.dev0->-r requirements.txt (line 4)) (3.3.2)\n",
            "Requirement already satisfied: idna<4,>=2.5 in /usr/local/lib/python3.10/dist-packages (from requests->transformers==4.45.0.dev0->-r requirements.txt (line 4)) (3.8)\n",
            "Requirement already satisfied: urllib3<3,>=1.21.1 in /usr/local/lib/python3.10/dist-packages (from requests->transformers==4.45.0.dev0->-r requirements.txt (line 4)) (2.0.7)\n",
            "Requirement already satisfied: certifi>=2017.4.17 in /usr/local/lib/python3.10/dist-packages (from requests->transformers==4.45.0.dev0->-r requirements.txt (line 4)) (2024.7.4)\n",
            "Downloading rdflib-7.0.0-py3-none-any.whl (531 kB)\n",
            "\u001b[2K   \u001b[90m━━━━━━━━━━━━━━━━━━━━━━━━━━━━━━━━━━━━━━━━\u001b[0m \u001b[32m531.9/531.9 kB\u001b[0m \u001b[31m20.0 MB/s\u001b[0m eta \u001b[36m0:00:00\u001b[0m\n",
            "\u001b[?25hDownloading gguf-0.10.0-py3-none-any.whl (71 kB)\n",
            "\u001b[2K   \u001b[90m━━━━━━━━━━━━━━━━━━━━━━━━━━━━━━━━━━━━━━━━\u001b[0m \u001b[32m71.6/71.6 kB\u001b[0m \u001b[31m6.0 MB/s\u001b[0m eta \u001b[36m0:00:00\u001b[0m\n",
            "\u001b[?25hDownloading isodate-0.6.1-py2.py3-none-any.whl (41 kB)\n",
            "\u001b[2K   \u001b[90m━━━━━━━━━━━━━━━━━━━━━━━━━━━━━━━━━━━━━━━━\u001b[0m \u001b[32m41.7/41.7 kB\u001b[0m \u001b[31m3.5 MB/s\u001b[0m eta \u001b[36m0:00:00\u001b[0m\n",
            "\u001b[?25hBuilding wheels for collected packages: transformers\n",
            "  Building wheel for transformers (pyproject.toml) ... \u001b[?25l\u001b[?25hdone\n",
            "  Created wheel for transformers: filename=transformers-4.45.0.dev0-py3-none-any.whl size=9614041 sha256=b8647a66dc2c6b2de8b74ab5227defb6b54b896c773214cff3e2be98f180ecae\n",
            "  Stored in directory: /tmp/pip-ephem-wheel-cache-q73sdd4d/wheels/c0/14/d6/6c9a5582d2ac191ec0a483be151a4495fe1eb2a6706ca49f1b\n",
            "Successfully built transformers\n",
            "Installing collected packages: isodate, gguf, rdflib, transformers\n",
            "  Attempting uninstall: transformers\n",
            "    Found existing installation: transformers 4.42.4\n",
            "    Uninstalling transformers-4.42.4:\n",
            "      Successfully uninstalled transformers-4.42.4\n",
            "Successfully installed gguf-0.10.0 isodate-0.6.1 rdflib-7.0.0 transformers-4.45.0.dev0\n"
          ]
        }
      ],
      "source": [
        "# Set up the environment\n",
        "!pip install -r requirements.txt\n"
      ]
    },
    {
      "cell_type": "code",
      "execution_count": 7,
      "metadata": {
        "id": "oOkDqwqUuPF0"
      },
      "outputs": [],
      "source": [
        "# !pip install transformers accelerate bitsandbytes>0.37.0"
      ]
    },
    {
      "cell_type": "code",
      "execution_count": null,
      "metadata": {
        "id": "_q_5ebcGj2LR"
      },
      "outputs": [],
      "source": [
        "# !python main.py \\\n",
        "#   --train_date_path\n"
      ]
    },
    {
      "cell_type": "code",
      "execution_count": 4,
      "metadata": {
        "id": "hTCpv4PL_2zN"
      },
      "outputs": [],
      "source": [
        "train_path = \"/content/drive/MyDrive/Prompt_Semantic/Data/karma-version/sources/\"\n",
        "test_path = \"/content/drive/MyDrive/Prompt_Semantic/Data/karma-version/models-json/\"\n",
        "ontology_path = \"/content/drive/MyDrive/Prompt_Semantic/ontologies/cidoc-crm-v6_2.rdf\""
      ]
    },
    {
      "cell_type": "code",
      "execution_count": 5,
      "metadata": {
        "colab": {
          "base_uri": "https://localhost:8080/"
        },
        "id": "SvMm2bjIA9gi",
        "outputId": "42fcf542-3613-4686-e8ee-81834dc647af"
      },
      "outputs": [
        {
          "name": "stdout",
          "output_type": "stream",
          "text": [
            "Loading data from [0, 1] files\n",
            "Loading data from /content/drive/MyDrive/Prompt_Semantic/Data/karma-version/sources/s01-cb.json and /content/drive/MyDrive/Prompt_Semantic/Data/karma-version/models-json/s01-cb-model.json\n",
            "Loading data from /content/drive/MyDrive/Prompt_Semantic/Data/karma-version/sources/s02-dma.json and /content/drive/MyDrive/Prompt_Semantic/Data/karma-version/models-json/s02-dma-model.json\n",
            "Loading data from [2] files\n",
            "Loading data from /content/drive/MyDrive/Prompt_Semantic/Data/karma-version/sources/s03-ima-artists.json and /content/drive/MyDrive/Prompt_Semantic/Data/karma-version/models-json/s03-ima-artists-model.json\n"
          ]
        }
      ],
      "source": [
        "\n",
        "from data_loader import generate_data\n",
        "from prompt_generator import load_ontology, generate_prompt_without_semantic_typing\n",
        "train_data, test_data = generate_data(train_path, test_path,  3, 2)\n",
        "ontology = load_ontology(ontology_path)\n",
        "prompt = generate_prompt_without_semantic_typing(train_data, ontology, True)"
      ]
    },
    {
      "cell_type": "code",
      "execution_count": 6,
      "metadata": {
        "id": "akwNZrl3kyBN"
      },
      "outputs": [],
      "source": [
        "for i, data in enumerate(test_data):\n",
        "        prompt += f\"Table: \"\n",
        "        for j, table in enumerate(data['table']):\n",
        "            prompt += f\"{table}\\n\"\n",
        "        prompt += f\"The semantic graph of the table in the strict format of given examples above:\""
      ]
    },
    {
      "cell_type": "code",
      "execution_count": 7,
      "metadata": {
        "id": "d-g0lI18QqG7"
      },
      "outputs": [],
      "source": [
        "text_file = open(\"Output.txt\", \"w\")\n",
        "\n",
        "text_file.write(prompt)\n",
        "\n",
        "text_file.close()"
      ]
    },
    {
      "cell_type": "code",
      "execution_count": null,
      "metadata": {
        "id": "Yjdpp2fKgBLY"
      },
      "outputs": [],
      "source": [
        "from openai import OpenAI\n",
        "\n",
        "model = OpenAI(api_key=\"YourAPIKey\", base_url=\"https://api.deepseek.com\")\n",
        "\n",
        "input_msg = [{\"role\": \"user\", \"content\": prompt}]\n",
        "response = model.chat.completions.create(\n",
        "    model=\"deepseek-chat\",\n",
        "    messages=input_msg,\n",
        "    stream=False\n",
        ")\n",
        "response = response.choices[0].message.content\n",
        "\n",
        "text_file = open(\"response.txt\", \"w\")\n",
        "\n",
        "text_file.write(response)\n",
        "\n",
        "text_file.close()"
      ]
    },
    {
      "cell_type": "code",
      "execution_count": 14,
      "metadata": {
        "id": "6WWVGq5tQre9"
      },
      "outputs": [
        {
          "name": "stdout",
          "output_type": "stream",
          "text": [
            "Mean Reciprocal Rank (MRR): 0.16166817788334814\n",
            "Differences between the triples:\n",
            "['crm:E33_Linguistic_Object3', 'rdf:value', 'Credit Line']\n",
            "['crm:E33_Linguistic_Object3', 'rdf:value', 'Provenance']\n",
            "['crm:E33_Linguistic_Object4', 'rdf:value', 'Description']\n",
            "['crm:E33_Linguistic_Object5', 'rdf:value', 'Provenance']\n",
            "['crm:E33_Linguistic_Object2', 'rdf:value', 'Dimensions']\n",
            "['crm:E33_Linguistic_Object1', 'rdf:value', 'Credit Line']\n",
            "['crm:E54_Dimension1', 'rdf:value', 'Dimensions']\n",
            "['crm:E33_Linguistic_Object2', 'rdf:value', 'Description']\n",
            "['crm:E33_Linguistic_Object1', 'rdf:value', 'Medium']\n",
            "['crm:E57_Material1', 'rdfs:label', 'Medium']\n"
          ]
        }
      ],
      "source": [
        "import json\n",
        "\n",
        "def load_json(file_path):\n",
        "    with open(file_path, 'r') as file:\n",
        "        return json.load(file)\n",
        "\n",
        "def mean_reciprocal_rank(predicted, gold):\n",
        "    ranks = []\n",
        "    for item in gold:\n",
        "        if item in predicted:\n",
        "            rank = predicted.index(item) + 1\n",
        "            ranks.append(1 / rank)\n",
        "    return sum(ranks) / len(gold) if ranks else 0\n",
        "\n",
        "def find_differences(list1, list2):\n",
        "    set1 = set(tuple(item) for item in list1)\n",
        "    set2 = set(tuple(item) for item in list2)\n",
        "    differences = set1.symmetric_difference(set2)\n",
        "    return [list(item) for item in differences]\n",
        "\n",
        "# Load the JSON files\n",
        "gold_semantics= load_json('Data/models-triples/s05-met-model.json')['semantic_triples']\n",
        "predicted_semantics = load_json('s03_predict.json')['SetSemanticType']  # Replace with the actual path to the other file\n",
        "\n",
        "# Calculate MRR\n",
        "mrr = mean_reciprocal_rank(predicted_semantics, gold_semantics)\n",
        "print(f\"Mean Reciprocal Rank (MRR): {mrr}\")\n",
        "\n",
        "# Find differences\n",
        "differences = find_differences(predicted_semantics, gold_semantics)\n",
        "print(\"Differences between the triples:\")\n",
        "for diff in differences:\n",
        "    print(diff)"
      ]
    },
    {
      "cell_type": "code",
      "execution_count": 15,
      "metadata": {},
      "outputs": [
        {
          "data": {
            "text/plain": [
              "[['crm:E42_Identifier2', 'rdf:value', 'Accession Number'],\n",
              " ['crm:E55_Type1', 'rdfs:label', 'Classification'],\n",
              " ['crm:E33_Linguistic_Object1', 'rdf:value', 'Credit Line'],\n",
              " ['crm:E52_Time-Span1', 'rdfs:label', 'Date'],\n",
              " ['crm:E33_Linguistic_Object2', 'rdf:value', 'Description'],\n",
              " ['crm:E54_Dimension1', 'rdf:value', 'Dimensions'],\n",
              " ['crm:E53_Place1', 'rdfs:label', 'Geography'],\n",
              " ['crm:E57_Material1', 'rdfs:label', 'Medium'],\n",
              " ['crm:E33_Linguistic_Object3', 'rdf:value', 'Provenance'],\n",
              " ['skos:Concept1', 'skos:prefLabel', 'What'],\n",
              " ['crm:E82_Actor_Appellation1', 'rdf:value', 'Who'],\n",
              " ['crm:E39_Actor1', 'karma:classLink', 'artist_uri'],\n",
              " ['crm:E52_Time-Span1', 'crm:P82a_begin_of_the_begin', 'date_earliest'],\n",
              " ['crm:E52_Time-Span1', 'crm:P82b_end_of_the_end', 'date_latest'],\n",
              " ['crm:E42_Identifier1', 'rdf:value', 'id'],\n",
              " ['crm:E38_Image1', 'karma:classLink', 'image'],\n",
              " ['crm:E22_Man-Made_Object1', 'karma:classLink', 'object_uri'],\n",
              " ['crm:E12_Production1', 'karma:classLink', 'production_uri'],\n",
              " ['crm:E17_Type_Assignment1', 'karma:classLink', 'type_assignment_uri']]"
            ]
          },
          "execution_count": 15,
          "metadata": {},
          "output_type": "execute_result"
        }
      ],
      "source": [
        "predicted_semantics.sort(key=lambda x: x[2])\n",
        "gold_semantics.sort(key=lambda x: x[2]  )\n",
        "predicted_semantics\n"
      ]
    },
    {
      "cell_type": "code",
      "execution_count": 16,
      "metadata": {},
      "outputs": [
        {
          "data": {
            "text/plain": [
              "[['crm:E42_Identifier2', 'rdf:value', 'Accession Number'],\n",
              " ['crm:E55_Type1', 'rdfs:label', 'Classification'],\n",
              " ['crm:E33_Linguistic_Object3', 'rdf:value', 'Credit Line'],\n",
              " ['crm:E52_Time-Span1', 'rdfs:label', 'Date'],\n",
              " ['crm:E33_Linguistic_Object4', 'rdf:value', 'Description'],\n",
              " ['crm:E33_Linguistic_Object2', 'rdf:value', 'Dimensions'],\n",
              " ['crm:E53_Place1', 'rdfs:label', 'Geography'],\n",
              " ['crm:E33_Linguistic_Object1', 'rdf:value', 'Medium'],\n",
              " ['crm:E33_Linguistic_Object5', 'rdf:value', 'Provenance'],\n",
              " ['skos:Concept1', 'skos:prefLabel', 'What'],\n",
              " ['crm:E82_Actor_Appellation1', 'rdf:value', 'Who'],\n",
              " ['crm:E39_Actor1', 'karma:classLink', 'artist_uri'],\n",
              " ['crm:E52_Time-Span1', 'crm:P82a_begin_of_the_begin', 'date_earliest'],\n",
              " ['crm:E52_Time-Span1', 'crm:P82b_end_of_the_end', 'date_latest'],\n",
              " ['crm:E42_Identifier1', 'rdf:value', 'id'],\n",
              " ['crm:E38_Image1', 'karma:classLink', 'image'],\n",
              " ['crm:E22_Man-Made_Object1', 'karma:classLink', 'object_uri'],\n",
              " ['crm:E12_Production1', 'karma:classLink', 'production_uri'],\n",
              " ['crm:E17_Type_Assignment1', 'karma:classLink', 'type_assignment_uri']]"
            ]
          },
          "execution_count": 16,
          "metadata": {},
          "output_type": "execute_result"
        }
      ],
      "source": [
        "gold_semantics"
      ]
    },
    {
      "cell_type": "code",
      "execution_count": null,
      "metadata": {},
      "outputs": [],
      "source": [
        "    {\n",
        "        \"id\":10000831,\n",
        "        \"image\":\"http:\\/\\/images.metmuseum.org\\/CRDImages\\/ad\\/web-large\\/DP104414.jpg\",\n",
        "        \"Date\":\"1700-1710\",\n",
        "        \"date_latest\":\"\",\n",
        "        \"date_earliest\":\"\",\n",
        "        \"Geography\":\"Mid-Atlantic, New York City, New York, United States\",\n",
        "        \"Medium\":\"Silver\",\n",
        "        \"Dimensions\":\"\\n\",\n",
        "        \"Classification\":\"Silver\",\n",
        "        \"Credit Line\":\"Samuel D. Lee Fund, 1938\",\n",
        "        \"Accession Number\":\"38.63\",\n",
        "        \"object_uri\":\"http:\\/\\/www.metmuseum.org\\/object\\/38.63\",\n",
        "        \"type_assignment_uri\":\"http:\\/\\/www.metmuseum.org\\/object\\/38.63\\/work_type\",\n",
        "        \"production_uri\":\"http:\\/\\/www.metmuseum.org\\/object\\/38.63\\/production\",\n",
        "        \"Who\":\"Cornelius Kierstede\",\n",
        "        \"artist_uri\":\"http:\\/\\/www.metmuseum.org\\/person\\/cornelius-kierstede\",\n",
        "        \"What\":[\n",
        "            \"Metal\",\n",
        "            \"Silver\",\n",
        "            \"Bowls\"\n",
        "        ],\n",
        "        \"Description\":\"Derived from Dutch, Scandinavian, and English sources, brandywine bowls were used on festive occasions such as the kindermaal, when women gathered to welcome a newborn child. Following Dutch custom, a bowl would be filled with raisins and brandy and passed from guest to guest. Here, boldly chased tulips create a sumptuous effect. The bowl belonged to Theunis Jacobsen Quick, a wealthy baker, and his wife, Vroutje 4516 Janse Haring.\",\n",
        "        \"Provenance\":\"\\n\"\n",
        "    },"
      ]
    }
  ],
  "metadata": {
    "accelerator": "GPU",
    "colab": {
      "gpuType": "T4",
      "machine_shape": "hm",
      "provenance": []
    },
    "kernelspec": {
      "display_name": "Python 3",
      "name": "python3"
    },
    "language_info": {
      "codemirror_mode": {
        "name": "ipython",
        "version": 3
      },
      "file_extension": ".py",
      "mimetype": "text/x-python",
      "name": "python",
      "nbconvert_exporter": "python",
      "pygments_lexer": "ipython3",
      "version": "3.12.5"
    },
    "widgets": {
      "application/vnd.jupyter.widget-state+json": {
        "3c76bdb8ba584288b82864971dd129f1": {
          "model_module": "@jupyter-widgets/base",
          "model_module_version": "1.2.0",
          "model_name": "LayoutModel",
          "state": {
            "_model_module": "@jupyter-widgets/base",
            "_model_module_version": "1.2.0",
            "_model_name": "LayoutModel",
            "_view_count": null,
            "_view_module": "@jupyter-widgets/base",
            "_view_module_version": "1.2.0",
            "_view_name": "LayoutView",
            "align_content": null,
            "align_items": null,
            "align_self": null,
            "border": null,
            "bottom": null,
            "display": null,
            "flex": null,
            "flex_flow": null,
            "grid_area": null,
            "grid_auto_columns": null,
            "grid_auto_flow": null,
            "grid_auto_rows": null,
            "grid_column": null,
            "grid_gap": null,
            "grid_row": null,
            "grid_template_areas": null,
            "grid_template_columns": null,
            "grid_template_rows": null,
            "height": null,
            "justify_content": null,
            "justify_items": null,
            "left": null,
            "margin": null,
            "max_height": null,
            "max_width": null,
            "min_height": null,
            "min_width": null,
            "object_fit": null,
            "object_position": null,
            "order": null,
            "overflow": null,
            "overflow_x": null,
            "overflow_y": null,
            "padding": null,
            "right": null,
            "top": null,
            "visibility": null,
            "width": null
          }
        },
        "4a2d6f9b679642ca86295b9e6d188e00": {
          "model_module": "@jupyter-widgets/base",
          "model_module_version": "1.2.0",
          "model_name": "LayoutModel",
          "state": {
            "_model_module": "@jupyter-widgets/base",
            "_model_module_version": "1.2.0",
            "_model_name": "LayoutModel",
            "_view_count": null,
            "_view_module": "@jupyter-widgets/base",
            "_view_module_version": "1.2.0",
            "_view_name": "LayoutView",
            "align_content": null,
            "align_items": null,
            "align_self": null,
            "border": null,
            "bottom": null,
            "display": null,
            "flex": null,
            "flex_flow": null,
            "grid_area": null,
            "grid_auto_columns": null,
            "grid_auto_flow": null,
            "grid_auto_rows": null,
            "grid_column": null,
            "grid_gap": null,
            "grid_row": null,
            "grid_template_areas": null,
            "grid_template_columns": null,
            "grid_template_rows": null,
            "height": null,
            "justify_content": null,
            "justify_items": null,
            "left": null,
            "margin": null,
            "max_height": null,
            "max_width": null,
            "min_height": null,
            "min_width": null,
            "object_fit": null,
            "object_position": null,
            "order": null,
            "overflow": null,
            "overflow_x": null,
            "overflow_y": null,
            "padding": null,
            "right": null,
            "top": null,
            "visibility": null,
            "width": null
          }
        },
        "4e53c82f871749c7aaeb2b7943b52eaa": {
          "model_module": "@jupyter-widgets/controls",
          "model_module_version": "1.5.0",
          "model_name": "DescriptionStyleModel",
          "state": {
            "_model_module": "@jupyter-widgets/controls",
            "_model_module_version": "1.5.0",
            "_model_name": "DescriptionStyleModel",
            "_view_count": null,
            "_view_module": "@jupyter-widgets/base",
            "_view_module_version": "1.2.0",
            "_view_name": "StyleView",
            "description_width": ""
          }
        },
        "596b395997c74cd0995704c6d05892f1": {
          "model_module": "@jupyter-widgets/controls",
          "model_module_version": "1.5.0",
          "model_name": "FloatProgressModel",
          "state": {
            "_dom_classes": [],
            "_model_module": "@jupyter-widgets/controls",
            "_model_module_version": "1.5.0",
            "_model_name": "FloatProgressModel",
            "_view_count": null,
            "_view_module": "@jupyter-widgets/controls",
            "_view_module_version": "1.5.0",
            "_view_name": "ProgressView",
            "bar_style": "success",
            "description": "",
            "description_tooltip": null,
            "layout": "IPY_MODEL_5e7331ecba68460ba6f88192fdecb3ce",
            "max": 3230186400,
            "min": 0,
            "orientation": "horizontal",
            "style": "IPY_MODEL_8947cbe314a04b25abacc93781a44399",
            "value": 3230186400
          }
        },
        "5e7331ecba68460ba6f88192fdecb3ce": {
          "model_module": "@jupyter-widgets/base",
          "model_module_version": "1.2.0",
          "model_name": "LayoutModel",
          "state": {
            "_model_module": "@jupyter-widgets/base",
            "_model_module_version": "1.2.0",
            "_model_name": "LayoutModel",
            "_view_count": null,
            "_view_module": "@jupyter-widgets/base",
            "_view_module_version": "1.2.0",
            "_view_name": "LayoutView",
            "align_content": null,
            "align_items": null,
            "align_self": null,
            "border": null,
            "bottom": null,
            "display": null,
            "flex": null,
            "flex_flow": null,
            "grid_area": null,
            "grid_auto_columns": null,
            "grid_auto_flow": null,
            "grid_auto_rows": null,
            "grid_column": null,
            "grid_gap": null,
            "grid_row": null,
            "grid_template_areas": null,
            "grid_template_columns": null,
            "grid_template_rows": null,
            "height": null,
            "justify_content": null,
            "justify_items": null,
            "left": null,
            "margin": null,
            "max_height": null,
            "max_width": null,
            "min_height": null,
            "min_width": null,
            "object_fit": null,
            "object_position": null,
            "order": null,
            "overflow": null,
            "overflow_x": null,
            "overflow_y": null,
            "padding": null,
            "right": null,
            "top": null,
            "visibility": null,
            "width": null
          }
        },
        "871494e5820c4a18aeda67331488a6a3": {
          "model_module": "@jupyter-widgets/controls",
          "model_module_version": "1.5.0",
          "model_name": "HTMLModel",
          "state": {
            "_dom_classes": [],
            "_model_module": "@jupyter-widgets/controls",
            "_model_module_version": "1.5.0",
            "_model_name": "HTMLModel",
            "_view_count": null,
            "_view_module": "@jupyter-widgets/controls",
            "_view_module_version": "1.5.0",
            "_view_name": "HTMLView",
            "description": "",
            "description_tooltip": null,
            "layout": "IPY_MODEL_4a2d6f9b679642ca86295b9e6d188e00",
            "placeholder": "​",
            "style": "IPY_MODEL_c68a95d6fe6c4124a27a90c73ed08f81",
            "value": "(…)a-3.1-Minitron-4B-Width-Base-Q5_K_M.gguf: 100%"
          }
        },
        "8947cbe314a04b25abacc93781a44399": {
          "model_module": "@jupyter-widgets/controls",
          "model_module_version": "1.5.0",
          "model_name": "ProgressStyleModel",
          "state": {
            "_model_module": "@jupyter-widgets/controls",
            "_model_module_version": "1.5.0",
            "_model_name": "ProgressStyleModel",
            "_view_count": null,
            "_view_module": "@jupyter-widgets/base",
            "_view_module_version": "1.2.0",
            "_view_name": "StyleView",
            "bar_color": null,
            "description_width": ""
          }
        },
        "b1466e3fc939432cb256a08a95565689": {
          "model_module": "@jupyter-widgets/base",
          "model_module_version": "1.2.0",
          "model_name": "LayoutModel",
          "state": {
            "_model_module": "@jupyter-widgets/base",
            "_model_module_version": "1.2.0",
            "_model_name": "LayoutModel",
            "_view_count": null,
            "_view_module": "@jupyter-widgets/base",
            "_view_module_version": "1.2.0",
            "_view_name": "LayoutView",
            "align_content": null,
            "align_items": null,
            "align_self": null,
            "border": null,
            "bottom": null,
            "display": null,
            "flex": null,
            "flex_flow": null,
            "grid_area": null,
            "grid_auto_columns": null,
            "grid_auto_flow": null,
            "grid_auto_rows": null,
            "grid_column": null,
            "grid_gap": null,
            "grid_row": null,
            "grid_template_areas": null,
            "grid_template_columns": null,
            "grid_template_rows": null,
            "height": null,
            "justify_content": null,
            "justify_items": null,
            "left": null,
            "margin": null,
            "max_height": null,
            "max_width": null,
            "min_height": null,
            "min_width": null,
            "object_fit": null,
            "object_position": null,
            "order": null,
            "overflow": null,
            "overflow_x": null,
            "overflow_y": null,
            "padding": null,
            "right": null,
            "top": null,
            "visibility": null,
            "width": null
          }
        },
        "c68a95d6fe6c4124a27a90c73ed08f81": {
          "model_module": "@jupyter-widgets/controls",
          "model_module_version": "1.5.0",
          "model_name": "DescriptionStyleModel",
          "state": {
            "_model_module": "@jupyter-widgets/controls",
            "_model_module_version": "1.5.0",
            "_model_name": "DescriptionStyleModel",
            "_view_count": null,
            "_view_module": "@jupyter-widgets/base",
            "_view_module_version": "1.2.0",
            "_view_name": "StyleView",
            "description_width": ""
          }
        },
        "e71e5a3e33684309bc28113f18afc4f7": {
          "model_module": "@jupyter-widgets/controls",
          "model_module_version": "1.5.0",
          "model_name": "HBoxModel",
          "state": {
            "_dom_classes": [],
            "_model_module": "@jupyter-widgets/controls",
            "_model_module_version": "1.5.0",
            "_model_name": "HBoxModel",
            "_view_count": null,
            "_view_module": "@jupyter-widgets/controls",
            "_view_module_version": "1.5.0",
            "_view_name": "HBoxView",
            "box_style": "",
            "children": [
              "IPY_MODEL_871494e5820c4a18aeda67331488a6a3",
              "IPY_MODEL_596b395997c74cd0995704c6d05892f1",
              "IPY_MODEL_fe52dd50f1dd4273a11bbb0d6afc1abf"
            ],
            "layout": "IPY_MODEL_3c76bdb8ba584288b82864971dd129f1"
          }
        },
        "fe52dd50f1dd4273a11bbb0d6afc1abf": {
          "model_module": "@jupyter-widgets/controls",
          "model_module_version": "1.5.0",
          "model_name": "HTMLModel",
          "state": {
            "_dom_classes": [],
            "_model_module": "@jupyter-widgets/controls",
            "_model_module_version": "1.5.0",
            "_model_name": "HTMLModel",
            "_view_count": null,
            "_view_module": "@jupyter-widgets/controls",
            "_view_module_version": "1.5.0",
            "_view_name": "HTMLView",
            "description": "",
            "description_tooltip": null,
            "layout": "IPY_MODEL_b1466e3fc939432cb256a08a95565689",
            "placeholder": "​",
            "style": "IPY_MODEL_4e53c82f871749c7aaeb2b7943b52eaa",
            "value": " 3.23G/3.23G [02:14&lt;00:00, 24.2MB/s]"
          }
        }
      }
    }
  },
  "nbformat": 4,
  "nbformat_minor": 0
}
