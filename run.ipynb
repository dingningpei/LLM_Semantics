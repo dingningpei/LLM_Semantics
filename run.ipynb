{
 "cells": [
  {
   "cell_type": "code",
   "execution_count": null,
   "metadata": {},
   "outputs": [],
   "source": [
    "# !pip install OpenAI"
   ]
  },
  {
   "cell_type": "code",
   "execution_count": null,
   "metadata": {},
   "outputs": [],
   "source": [
    "# from data_loader import generate_data\n",
    "# from instruct_prompt_generator import load_ontologies\n",
    "# from openai import OpenAI\n",
    "\n",
    "# train_path = \"/content/drive/MyDrive/Prompt_Semantic/Data/data-djg-20240922/tables_sources_json/\"\n",
    "# models_path = \"/content/drive/MyDrive/Prompt_Semantic/Data/data-djg-20240922/models_triples_json/\"\n",
    "# ontology_path = \"/content/drive/MyDrive/Prompt_Semantic/Data/data-djg-20240922/ontology/Ontologies.json\"\n",
    "\n",
    "\n",
    "# train_data, test_data = generate_data(train_path, models_path,  28, 3, 0.25, 2023, xml= False)\n",
    "# ontology = load_ontologies(ontology_path)\n",
    "# prompt_path = \"/content/drive/MyDrive/Prompt_Semantic/Prompts/promp_value.txt\"\n",
    "# chain_path1 = \"/content/drive/MyDrive/Prompt_Semantic/Prompts/chain1.txt\"\n",
    "# chain_path2 = \"/content/drive/MyDrive/Prompt_Semantic/Prompts/chain2.txt\"\n",
    "\n",
    "\n",
    "\n",
    "# from Prompt_Reason import generate_reason\n",
    "# sample_size = 1\n",
    "# for i in range(sample_size):\n",
    "#   model = OpenAI(api_key=\"\", base_url=\"https://api.deepseek.com\")\n",
    "#   print(f'This is epoch {i}')\n",
    "#   generate_reason(train_data, ontology, test_data, prompt_path, chain_path1, chain_path2, model)\n",
    "#   print(\"=========================================\")\n",
    "# # generate_reason(train_data, ontology, test_data, prompt_path, chain_path1, chain_path2, model)"
   ]
  },
  {
   "cell_type": "code",
   "execution_count": 1,
   "metadata": {},
   "outputs": [
    {
     "name": "stdout",
     "output_type": "stream",
     "text": [
      "[\"[['crm:E38_Image1', 'crm:P138_represents', 'crm:E22_Man-Made_Object1'], ['crm:E22_Man-Made_Object1', 'crm:P108i_was_produced_by', 'crm:E12_Production1'], ['crm:E22_Man-Made_Object1', 'crm:P102_has_title', 'crm:E35_Title1'], ['crm:E22_Man-Made_Object1', 'crm:P51_has_former_or_current_owner', 'crm:E40_Legal_Body1'], ['crm:E22_Man-Made_Object1', 'crm:P43_has_dimension', 'crm:E54_Dimension1'], ['crm:E12_Production1', 'crm:P14_carried_out_by', 'crm:E21_Person1'], ['crm:E12_Production1', 'crm:P4_has_time-span', 'crm:E52_Time-Span1'], ['crm:E21_Person1', 'crm:P131_is_identified_by', 'crm:E82_Actor_Appellation1']]\", \"[['crm:E82_Actor_Appellation1', 'crm:P131_is_identified_by', 'crm:E39_Actor1'], ['crm:E39_Actor1', 'crm:P98i_was_born', 'crm:E67_Birth1'], ['crm:E39_Actor1', 'crm:P100i_died_in', 'crm:E69_Death1'], ['crm:E67_Birth1', 'crm:P4_has_time-span', 'crm:E52_Time-Span1'], ['crm:E69_Death1', 'crm:P4_has_time-span', 'crm:E52_Time-Span2'], ['crm:E39_Actor1', 'crm:P107i_is_current_or_former_member_of', 'crm:E74_Group1'], ['crm:E22_Man-Made_Object1', 'crm:P108i_was_produced_by', 'crm:E12_Production1'], ['crm:E22_Man-Made_Object1', 'crm:P102_has_title', 'crm:E35_Title1'], ['crm:E22_Man-Made_Object1', 'crm:P24i_changed_ownership_through', 'crm:E8_Acquisition1'], ['crm:E22_Man-Made_Object1', 'crm:P43_has_dimension', 'crm:E54_Dimension1'], ['crm:E12_Production1', 'crm:P14_carried_out_by', 'crm:E39_Actor1'], ['crm:E12_Production1', 'crm:P4_has_time-span', 'crm:E52_Time-Span3']]\", \"[['crm:E39_Actor1', 'crm:P131_is_identified_by', 'crm:E82_Actor_Appellation1'], ['crm:E74_Group1', 'crm:P68_foresees_use_of', 'crm:E39_Actor1'], ['crm:E39_Actor1', 'crm:P102_has_title', 'crm:E8_Acquisition1']]\", \"[['crm:E22_Man-Made_Object1', 'crm:P102_has_title', 'crm:E35_Title1'], ['crm:E22_Man-Made_Object1', 'crm:P108i_was_produced_by', 'crm:E12_Production1'], ['crm:E12_Production1', 'crm:P14_carried_out_by', 'crm:E82_Actor_Appellation1'], ['crm:E12_Production1', 'crm:P4_has_time-span', 'crm:E52_Time-Span1'], ['crm:E22_Man-Made_Object1', 'crm:P2_has_type', 'crm:E55_Type1'], ['crm:E22_Man-Made_Object1', 'crm:P43_has_dimension', 'crm:E54_Dimension1'], ['crm:E22_Man-Made_Object1', 'crm:P3_has_note', 'crm:E8_Acquisition1'], ['crm:E8_Acquisition1', 'crm:P3_has_note', 'crm:E8_Acquisition1']]\", \"[['crm:E38_Image1', 'crm:P138_represents', 'crm:E22_Man-Made_Object1'], ['crm:E22_Man-Made_Object1', 'crm:P108i_was_produced_by', 'crm:E12_Production1'], ['crm:E22_Man-Made_Object1', 'crm:P102_has_title', 'crm:E35_Title1'], ['crm:E22_Man-Made_Object1', 'crm:P4_has_time-span', 'crm:E52_Time-Span1'], ['crm:E22_Man-Made_Object1', 'crm:P43_has_dimension', 'crm:E54_Dimension1'], ['crm:E22_Man-Made_Object1', 'crm:P104_is_subject_to', 'crm:E30_Right1'], ['crm:E22_Man-Made_Object1', 'crm:P2_has_type', 'crm:E55_Type1'], ['crm:E12_Production1', 'crm:P14_carried_out_by', 'crm:E39_Actor1'], ['crm:E39_Actor1', 'crm:P98i_was_born', 'crm:E67_Birth1'], ['crm:E39_Actor1', 'crm:P100i_died_in', 'crm:E69_Death1'], ['crm:E67_Birth1', 'crm:P4_has_time-span', 'crm:E52_Time-Span1'], ['crm:E69_Death1', 'crm:P4_has_time-span', 'crm:E52_Time-Span2']]\", \"[['crm:E82_Actor_Appellation1', 'crm:P131_is_identified_by', 'crm:E74_Group1'], ['crm:E82_Actor_Appellation1', 'crm:P98i_was_born', 'crm:E52_Time-Span1'], ['crm:E82_Actor_Appellation1', 'crm:P100i_died_in', 'crm:E52_Time-Span2'], ['crm:E82_Actor_Appellation1', 'crm:P3_has_note', 'crm:E8_Acquisition1'], ['crm:E35_Title1', 'crm:P108i_was_produced_by', 'crm:E12_Production1'], ['crm:E12_Production1', 'crm:P4_has_time-span', 'crm:E52_Time-Span3'], ['crm:E38_Image1', 'crm:P138_represents', 'crm:E8_Acquisition1'], ['crm:E12_Production1', 'crm:P28_custody_received_by', 'crm:E74_Group1']]\", \"[['crm:E82_Actor_Appellation1', 'crm:P131_is_identified_by', 'crm:E22_Man-Made_Object1'], ['crm:E22_Man-Made_Object1', 'crm:P102_has_title', 'crm:E35_Title1'], ['crm:E22_Man-Made_Object1', 'crm:P2_has_type', 'crm:E55_Type1'], ['crm:E22_Man-Made_Object1', 'crm:P43_has_dimension', 'crm:E54_Dimension1'], ['crm:E22_Man-Made_Object1', 'crm:P24i_changed_ownership_through', 'crm:E8_Acquisition1'], ['crm:E8_Acquisition1', 'crm:P3_has_note', 'credit'], ['crm:E22_Man-Made_Object1', 'crm:P108i_was_produced_by', 'crm:E12_Production1'], ['crm:E12_Production1', 'crm:P14_carried_out_by', 'crm:E39_Actor1'], ['crm:E39_Actor1', 'crm:P98i_was_born', 'crm:E67_Birth1'], ['crm:E39_Actor1', 'crm:P100i_died_in', 'crm:E69_Death1'], ['crm:E67_Birth1', 'crm:P4_has_time-span', 'crm:E52_Time-Span1'], ['crm:E69_Death1', 'crm:P4_has_time-span', 'crm:E52_Time-Span2']]\"]\n"
     ]
    }
   ],
   "source": [
    "import re\n",
    "\n",
    "# Read the file content\n",
    "with open('gpt-4o-mini-crm/6.txt', 'r') as file:\n",
    "    content = file.read()\n",
    "\n",
    "# Use regex to find all <Step2> sections\n",
    "step2_sections = re.findall(r'<Step2>(.*?)</Step2>', content, re.DOTALL)\n",
    "\n",
    "# Store the extracted sections in a list\n",
    "step2_list = [section.strip() for section in step2_sections]\n",
    "\n",
    "# Print the list to verify\n",
    "print(step2_list)"
   ]
  },
  {
   "cell_type": "code",
   "execution_count": 39,
   "metadata": {},
   "outputs": [],
   "source": [
    "\n",
    "import json\n",
    "\n",
    "def load_json(file_path):\n",
    "    with open(file_path, 'r') as file:\n",
    "        return json.load(file)\n",
    "def calculate_precision_recall(gold_semantics, predicted_semantics):\n",
    "    # map_dict = {}\n",
    "    # for i, item in enumerate(predicted_semantics):\n",
    "    #     if item[2] == \"None\":\n",
    "    #         continue\n",
    "    #     if map_dict.get(item[2][:-1]) is None:\n",
    "    #         map_dict[item[2][:-1]] = [item[2]]\n",
    "    #     else:\n",
    "    #         if item[2] not in map_dict[item[2][:-1]]:\n",
    "    #             map_dict[item[2][:-1]].append(item[2])\n",
    "    # for i, item in enumerate(predicted_semantics):\n",
    "    #     if map_dict.get(item[0][:-1]) is None:\n",
    "    #         map_dict[item[0][:-1]] = set([item[0]])\n",
    "    #     else:\n",
    "    #         if item[0] not in map_dict[item[0][:-1]]:\n",
    "    #             map_dict[item[0][:-1]].append(item[0])\n",
    "    # convert_dict = {}\n",
    "    # for key, value in map_dict.items():\n",
    "    #     for i, item in enumerate(value):\n",
    "    #         if item[-1] != str(i+1):\n",
    "    #             convert_dict[item] = item[:-1] + str(i+1)\n",
    "    # for i, item in enumerate(predicted_semantics):\n",
    "    #     if convert_dict.get(item[0]) is not None:\n",
    "    #         predicted_semantics[i][0] = convert_dict[item[0]]\n",
    "    #     if convert_dict.get(item[2]) is not None:\n",
    "    #         predicted_semantics[i][2] = convert_dict[item[2]]\n",
    "    # Convert lists to sets for comparison\n",
    "    \n",
    "    gold_set = set(tuple(item) for item in gold_semantics)\n",
    "    predicted_set = set(tuple(item) for item in predicted_semantics)\n",
    "\n",
    "    # Calculate true positives, false positives, and false negatives\n",
    "    true_positives = len(gold_set.intersection(predicted_set))\n",
    "    false_positives = len(predicted_set - gold_set)\n",
    "    false_negatives = len(gold_set - predicted_set)\n",
    "    print(f\"Wrong: {str(predicted_set - gold_set)}\")\n",
    "\n",
    "    # Calculate precision and recall\n",
    "    if len(predicted_set) == 1 and len(predicted_set[0]) == 0 and len(gold_set) == 0:\n",
    "        precision = 1\n",
    "        recall = 1\n",
    "    else:\n",
    "        precision = true_positives / (len(predicted_set)) if (true_positives + false_positives) > 0 else 0\n",
    "        recall = true_positives / len(gold_set) if (true_positives + false_negatives) > 0 else 0\n",
    "    return precision, recall\n"
   ]
  },
  {
   "cell_type": "code",
   "execution_count": 40,
   "metadata": {},
   "outputs": [],
   "source": [
    "gold_list = [\n",
    "    \"Data/crm-20240928/models_triples_json/s19-s-indianapolis-artworks-model.json\",\n",
    "    \"Data/crm-20240928/models_triples_json/s20-s-lacma-model.json\",\n",
    "    \"Data/crm-20240928/models_triples_json/s11-s-19-artists-model.json\",\n",
    "    \"Data/crm-20240928/models_triples_json/s28-gilcrease-model.json\",\n",
    "    \"Data/crm-20240928/models_triples_json/s15-s-detroit-institute-of-art-model.json\",\n",
    "    \"Data/crm-20240928/models_triples_json/s23-s-norton-simon-model.json\",\n",
    "    \"Data/crm-20240928/models_triples_json/s13-s-art-institute-of-chicago-model.json\"\n",
    "]\n",
    "pre = []\n",
    "rec = []"
   ]
  },
  {
   "cell_type": "code",
   "execution_count": 41,
   "metadata": {},
   "outputs": [
    {
     "name": "stdout",
     "output_type": "stream",
     "text": [
      "Wrong: {('crm:E22_Man-Made_Object1', 'crm:P51_has_former_or_current_owner', 'crm:E40_Legal_Body1'), ('crm:E12_Production1', 'crm:P4_has_time-span', 'crm:E52_Time-Span1')}\n",
      "Precision: 0.75\n",
      "Recall: 0.4\n",
      "Wrong: {('crm:E82_Actor_Appellation1', 'crm:P131_is_identified_by', 'crm:E39_Actor1'), ('crm:E22_Man-Made_Object1', 'crm:P43_has_dimension', 'crm:E54_Dimension1'), ('crm:E39_Actor1', 'crm:P100i_died_in', 'crm:E69_Death1'), ('crm:E12_Production1', 'crm:P14_carried_out_by', 'crm:E39_Actor1'), ('crm:E39_Actor1', 'crm:P107i_is_current_or_former_member_of', 'crm:E74_Group1'), ('crm:E22_Man-Made_Object1', 'crm:P24i_changed_ownership_through', 'crm:E8_Acquisition1'), ('crm:E39_Actor1', 'crm:P98i_was_born', 'crm:E67_Birth1')}\n",
      "Precision: 0.4166666666666667\n",
      "Recall: 0.4166666666666667\n",
      "Wrong: {('crm:E74_Group1', 'crm:P68_foresees_use_of', 'crm:E39_Actor1'), ('crm:E39_Actor1', 'crm:P102_has_title', 'crm:E8_Acquisition1')}\n",
      "Precision: 0.3333333333333333\n",
      "Recall: 0.25\n",
      "Wrong: {('crm:E22_Man-Made_Object1', 'crm:P3_has_note', 'crm:E8_Acquisition1'), ('crm:E12_Production1', 'crm:P14_carried_out_by', 'crm:E82_Actor_Appellation1'), ('crm:E8_Acquisition1', 'crm:P3_has_note', 'crm:E8_Acquisition1')}\n",
      "Precision: 0.625\n",
      "Recall: 0.5555555555555556\n",
      "Wrong: {('crm:E39_Actor1', 'crm:P100i_died_in', 'crm:E69_Death1'), ('crm:E12_Production1', 'crm:P14_carried_out_by', 'crm:E39_Actor1'), ('crm:E22_Man-Made_Object1', 'crm:P4_has_time-span', 'crm:E52_Time-Span1'), ('crm:E22_Man-Made_Object1', 'crm:P104_is_subject_to', 'crm:E30_Right1'), ('crm:E39_Actor1', 'crm:P98i_was_born', 'crm:E67_Birth1')}\n",
      "Precision: 0.5833333333333334\n",
      "Recall: 0.4666666666666667\n",
      "Wrong: {('crm:E12_Production1', 'crm:P28_custody_received_by', 'crm:E74_Group1'), ('crm:E82_Actor_Appellation1', 'crm:P131_is_identified_by', 'crm:E74_Group1'), ('crm:E82_Actor_Appellation1', 'crm:P100i_died_in', 'crm:E52_Time-Span2'), ('crm:E82_Actor_Appellation1', 'crm:P98i_was_born', 'crm:E52_Time-Span1'), ('crm:E82_Actor_Appellation1', 'crm:P3_has_note', 'crm:E8_Acquisition1'), ('crm:E38_Image1', 'crm:P138_represents', 'crm:E8_Acquisition1'), ('crm:E35_Title1', 'crm:P108i_was_produced_by', 'crm:E12_Production1')}\n",
      "Precision: 0.125\n",
      "Recall: 0.07692307692307693\n",
      "Wrong: {('crm:E8_Acquisition1', 'crm:P3_has_note', 'credit'), ('crm:E82_Actor_Appellation1', 'crm:P131_is_identified_by', 'crm:E22_Man-Made_Object1'), ('crm:E12_Production1', 'crm:P14_carried_out_by', 'crm:E39_Actor1'), ('crm:E39_Actor1', 'crm:P100i_died_in', 'crm:E69_Death1'), ('crm:E39_Actor1', 'crm:P98i_was_born', 'crm:E67_Birth1')}\n",
      "Precision: 0.5833333333333334\n",
      "Recall: 0.5384615384615384\n",
      "Mean Precision: 0.48809523809523814\n",
      "Mean Recall: 0.38632478632478634\n"
     ]
    }
   ],
   "source": [
    "# from Prompt_Reason import calculate_precision_recall\n",
    "for i, j in enumerate(gold_list):  \n",
    "    gold_semantics = load_json(j)['internal_link_triples']\n",
    "    predicted_semantics = [i.replace('\\'', '').split(\", \") for i in step2_list[i][2:-2].split(\"], [\")]\n",
    "    precision, recall = calculate_precision_recall(gold_semantics, predicted_semantics)\n",
    "    print(f\"Precision: {precision}\")\n",
    "    print(f\"Recall: {recall}\")\n",
    "    pre.append(precision)\n",
    "    rec.append(recall)\n",
    "print(f\"Mean Precision: {sum(pre) / len(pre)}\")\n",
    "print(f\"Mean Recall: {sum(rec) / len(rec)}\")"
   ]
  },
  {
   "cell_type": "code",
   "execution_count": 15,
   "metadata": {},
   "outputs": [
    {
     "data": {
      "text/plain": [
       "[['crm:E38_Image1', 'crm:P138_represents', 'crm:E22_Man-Made_Object1'],\n",
       " ['crm:E33_Linguistic_Object1',\n",
       "  'crm:P129_is_about',\n",
       "  'crm:E22_Man-Made_Object1'],\n",
       " ['crm:E22_Man-Made_Object1',\n",
       "  'crm:P108i_was_produced_by',\n",
       "  'crm:E12_Production1'],\n",
       " ['crm:E22_Man-Made_Object1', 'crm:P102_has_title', 'crm:E35_Title1'],\n",
       " ['crm:E22_Man-Made_Object1',\n",
       "  'crm:P24i_changed_ownership_through',\n",
       "  'crm:E8_Acquisition1'],\n",
       " ['crm:E22_Man-Made_Object1', 'crm:P43_has_dimension', 'crm:E54_Dimension1'],\n",
       " ['crm:E22_Man-Made_Object1', 'crm:P45_consists_of', 'crm:E57_Material1'],\n",
       " ['crm:E12_Production1', 'crm:P14_carried_out_by', 'crm:E21_Person1'],\n",
       " ['crm:E12_Production1', 'crm:P4_has_time-span', 'crm:E52_Time-Span3'],\n",
       " ['crm:E21_Person1', 'crm:P98i_was_born', 'crm:E67_Birth1'],\n",
       " ['crm:E21_Person1', 'crm:P100i_died_in', 'crm:E69_Death1'],\n",
       " ['crm:E21_Person1',\n",
       "  'crm:P107i_is_current_or_former_member_of',\n",
       "  'crm:E74_Group1'],\n",
       " ['crm:E21_Person1',\n",
       "  'crm:P131_is_identified_by',\n",
       "  'crm:E82_Actor_Appellation1'],\n",
       " ['crm:E67_Birth1', 'crm:P4_has_time-span', 'crm:E52_Time-Span1'],\n",
       " ['crm:E69_Death1', 'crm:P4_has_time-span', 'crm:E52_Time-Span2']]"
      ]
     },
     "execution_count": 15,
     "metadata": {},
     "output_type": "execute_result"
    }
   ],
   "source": [
    "gold_semantics"
   ]
  },
  {
   "cell_type": "code",
   "execution_count": 21,
   "metadata": {},
   "outputs": [
    {
     "data": {
      "text/plain": [
       "\"[['crm:E38_Image1', 'crm:P138_represents', 'crm:E22_Man-Made_Object1'], ['crm:E22_Man-Made_Object1', 'crm:P108i_was_produced_by', 'crm:E12_Production1'], ['crm:E22_Man-Made_Object1', 'crm:P102_has_title', 'crm:E35_Title1'], ['crm:E22_Man-Made_Object1', 'crm:P51_has_former_or_current_owner', 'crm:E40_Legal_Body1'], ['crm:E22_Man-Made_Object1', 'crm:P43_has_dimension', 'crm:E54_Dimension1'], ['crm:E12_Production1', 'crm:P14_carried_out_by', 'crm:E21_Person1'], ['crm:E12_Production1', 'crm:P4_has_time-span', 'crm:E52_Time-Span1'], ['crm:E21_Person1', 'crm:P131_is_identified_by', 'crm:E82_Actor_Appellation1']]\""
      ]
     },
     "execution_count": 21,
     "metadata": {},
     "output_type": "execute_result"
    }
   ],
   "source": [
    "predicted_semantics"
   ]
  },
  {
   "cell_type": "code",
   "execution_count": 29,
   "metadata": {},
   "outputs": [
    {
     "data": {
      "text/plain": [
       "[['crm:E38_Image1', 'crm:P138_represents', 'crm:E22_Man-Made_Object1'],\n",
       " ['crm:E22_Man-Made_Object1',\n",
       "  'crm:P108i_was_produced_by',\n",
       "  'crm:E12_Production1'],\n",
       " ['crm:E22_Man-Made_Object1', 'crm:P102_has_title', 'crm:E35_Title1'],\n",
       " ['crm:E22_Man-Made_Object1',\n",
       "  'crm:P51_has_former_or_current_owner',\n",
       "  'crm:E40_Legal_Body1'],\n",
       " ['crm:E22_Man-Made_Object1', 'crm:P43_has_dimension', 'crm:E54_Dimension1'],\n",
       " ['crm:E12_Production1', 'crm:P14_carried_out_by', 'crm:E21_Person1'],\n",
       " ['crm:E12_Production1', 'crm:P4_has_time-span', 'crm:E52_Time-Span1'],\n",
       " ['crm:E21_Person1',\n",
       "  'crm:P131_is_identified_by',\n",
       "  'crm:E82_Actor_Appellation1']]"
      ]
     },
     "execution_count": 29,
     "metadata": {},
     "output_type": "execute_result"
    }
   ],
   "source": [
    "[i.replace('\\'', '').split(\", \") for i in step2_list[0][2:-2].split(\"], [\")]"
   ]
  },
  {
   "cell_type": "code",
   "execution_count": 45,
   "metadata": {},
   "outputs": [
    {
     "ename": "SyntaxError",
     "evalue": "'[' was never closed (<string>, line 1)",
     "output_type": "error",
     "traceback": [
      "Traceback \u001b[0;36m(most recent call last)\u001b[0m:\n",
      "\u001b[0m  File \u001b[1;32m~/Library/Python/3.12/lib/python/site-packages/IPython/core/interactiveshell.py:3577\u001b[0m in \u001b[1;35mrun_code\u001b[0m\n    exec(code_obj, self.user_global_ns, self.user_ns)\u001b[0m\n",
      "\u001b[0m  Cell \u001b[1;32mIn[45], line 19\u001b[0m\n    step2_triples = [parse_section(section) for section in step2_sections]\u001b[0m\n",
      "\u001b[0;36m  Cell \u001b[0;32mIn[45], line 14\u001b[0;36m in \u001b[0;35mparse_section\u001b[0;36m\n\u001b[0;31m    triple = eval(line.strip())\u001b[0;36m\n",
      "\u001b[0;36m  File \u001b[0;32m<string>:1\u001b[0;36m\u001b[0m\n\u001b[0;31m    [\u001b[0m\n\u001b[0m    ^\u001b[0m\n\u001b[0;31mSyntaxError\u001b[0m\u001b[0;31m:\u001b[0m '[' was never closed\n"
     ]
    }
   ],
   "source": [
    "import re\n",
    "\n",
    "# Read the file content\n",
    "with open('o1-mini/0.txt', 'r') as file:\n",
    "    content = file.read()\n",
    "\n",
    "# Use regex to find all <Step2> sections\n",
    "step2_sections = re.findall(r'<Step2>(.*?)</Step2>', content, re.DOTALL)\n",
    "\n",
    "# Function to parse each section into triples\n",
    "def parse_section(section):\n",
    "    triples = []\n",
    "    for line in section.strip().split('\\n'):\n",
    "        triple = eval(line.strip())\n",
    "        triples.append(triple)\n",
    "    return triples\n",
    "\n",
    "# Parse each section and store the triples in a list\n",
    "step2_triples = [parse_section(section) for section in step2_sections]\n",
    "\n",
    "# # Print the list of triples to verify\n",
    "# for i, triples in enumerate(step2_triples, 1):\n",
    "#     print(f\"Step2 Section {i} Triples:\\n{triples}\\n\")"
   ]
  },
  {
   "cell_type": "code",
   "execution_count": 87,
   "metadata": {},
   "outputs": [
    {
     "data": {
      "text/plain": [
       "[['crm:E35_Title1', 'crm:P102_has_title', 'crm:E22_Man-Made_Object1'],\n",
       " ['crm:E38_Image1', 'crm:P138_represents', 'crm:E22_Man-Made_Object1'],\n",
       " ['crm:E22_Man-Made_Object1',\n",
       "  'crm:P82_at_some_time_within',\n",
       "  'crm:E52_Time-Span1'],\n",
       " ['crm:E22_Man-Made_Object1', 'crm:P3_has_note', 'crm:E57_Material1'],\n",
       " ['crm:E22_Man-Made_Object1', 'crm:P3_has_note', 'crm:E54_Dimension1'],\n",
       " ['crm:E22_Man-Made_Object1', 'crm:P3_has_note', 'crm:E8_Acquisition1'],\n",
       " ['crm:E22_Man-Made_Object1', 'crm:P3_has_note', 'crm:E3_Condition_State1'],\n",
       " ['crm:E22_Man-Made_Object1', 'crm:P3_has_note', 'crm:E8_Acquisition2'],\n",
       " ['crm:E22_Man-Made_Object1',\n",
       "  'crm:P14_carried_out_by',\n",
       "  'crm:E82_Actor_Appellation1'],\n",
       " ['crm:E82_Actor_Appellation1',\n",
       "  'crm:P74_has_current_or_former_residence',\n",
       "  'crm:E74_Group1'],\n",
       " ['crm:E82_Actor_Appellation1',\n",
       "  'crm:P82_at_some_time_within',\n",
       "  'crm:E52_Time-Span2'],\n",
       " ['crm:E82_Actor_Appellation1',\n",
       "  'crm:P82_at_some_time_within',\n",
       "  'crm:E52_Time-Span3'],\n",
       " ['crm:E82_Actor_Appellation1', 'crm:P7_took_place_at', 'crm:E48_Place_Name1']]"
      ]
     },
     "execution_count": 87,
     "metadata": {},
     "output_type": "execute_result"
    }
   ],
   "source": [
    "[i.replace('\\'', '').split(\",\") for i in step2_sections[0].replace(\"\\n\", \"\").replace(\" \", \"\")[2:-2].split(\"],[\")]"
   ]
  },
  {
   "cell_type": "code",
   "execution_count": 60,
   "metadata": {},
   "outputs": [
    {
     "name": "stdout",
     "output_type": "stream",
     "text": [
      "Wrong: {('crm:E22_Man-Made_Object1,crm:P3_has_note,crm:E3_Condition_State1',), ('crm:E82_Actor_Appellation1,crm:P7_took_place_at,crm:E48_Place_Name1',), ('crm:E82_Actor_Appellation1,crm:P82_at_some_time_within,crm:E52_Time-Span3',), ('crm:E22_Man-Made_Object1,crm:P14_carried_out_by,crm:E82_Actor_Appellation1',), ('crm:E35_Title1,crm:P102_has_title,crm:E22_Man-Made_Object1',), ('crm:E82_Actor_Appellation1,crm:P74_has_current_or_former_residence,crm:E74_Group1',), ('crm:E22_Man-Made_Object1,crm:P82_at_some_time_within,crm:E52_Time-Span1',), ('crm:E22_Man-Made_Object1,crm:P3_has_note,crm:E57_Material1',), ('crm:E22_Man-Made_Object1,crm:P3_has_note,crm:E8_Acquisition1',), ('crm:E82_Actor_Appellation1,crm:P82_at_some_time_within,crm:E52_Time-Span2',), ('crm:E22_Man-Made_Object1,crm:P3_has_note,crm:E54_Dimension1',), ('crm:E22_Man-Made_Object1,crm:P3_has_note,crm:E8_Acquisition2',), ('crm:E38_Image1,crm:P138_represents,crm:E22_Man-Made_Object1',)}\n",
      "Precision: 0.0\n",
      "Recall: 0.0\n"
     ]
    }
   ],
   "source": [
    "gold_semantics = load_json(gold_list[0])['internal_link_triples']\n",
    "predicted_semantics = [i.replace('\\'', '').split(\", \") for i in step2_sections[0].replace(\"\\n\", \"\").replace(\" \", \"\")[2:-2].split(\"],[\")]\n",
    "precision, recall = calculate_precision_recall(gold_semantics, predicted_semantics)\n",
    "print(f\"Precision: {precision}\")\n",
    "print(f\"Recall: {recall}\")"
   ]
  },
  {
   "cell_type": "code",
   "execution_count": 65,
   "metadata": {},
   "outputs": [
    {
     "data": {
      "text/plain": [
       "'crm:E35_Title1,crm:P102_has_title,crm:E22_Man-Made_Object1'"
      ]
     },
     "execution_count": 65,
     "metadata": {},
     "output_type": "execute_result"
    }
   ],
   "source": [
    "predicted_semantics[0]"
   ]
  },
  {
   "cell_type": "code",
   "execution_count": 86,
   "metadata": {},
   "outputs": [
    {
     "data": {
      "text/plain": [
       "['crm:E35_Title1', 'crm:P102_has_title', 'crm:E22_Man-Made_Object1']"
      ]
     },
     "execution_count": 86,
     "metadata": {},
     "output_type": "execute_result"
    }
   ],
   "source": [
    "a[0].replace(\"\\'\", \"\").split(',')"
   ]
  },
  {
   "cell_type": "code",
   "execution_count": null,
   "metadata": {},
   "outputs": [],
   "source": []
  }
 ],
 "metadata": {
  "kernelspec": {
   "display_name": "Python 3",
   "language": "python",
   "name": "python3"
  },
  "language_info": {
   "codemirror_mode": {
    "name": "ipython",
    "version": 3
   },
   "file_extension": ".py",
   "mimetype": "text/x-python",
   "name": "python",
   "nbconvert_exporter": "python",
   "pygments_lexer": "ipython3",
   "version": "3.12.5"
  }
 },
 "nbformat": 4,
 "nbformat_minor": 2
}
