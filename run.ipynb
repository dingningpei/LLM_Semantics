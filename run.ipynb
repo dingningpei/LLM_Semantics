{
 "cells": [
  {
   "cell_type": "code",
   "execution_count": null,
   "metadata": {
    "vscode": {
     "languageId": "plaintext"
    }
   },
   "outputs": [],
   "source": [
    "from data_loader import generate_data, load_ontologies\n",
    "from openai import OpenAI\n",
    "\n",
    "train_path = \"/content/drive/MyDrive/Prompt_Semantic/Data/karma-version/sources/\"\n",
    "models_path = \"/content/drive/MyDrive/Prompt_Semantic/Data/models-triples/\"\n",
    "ontology_path = \"/content/drive/MyDrive/Prompt_Semantic/Data/ontology/Ontologies.json\"\n",
    "\n",
    "model = OpenAI(api_key=\"\", base_url=\"https://api.deepseek.com\")\n",
    "train_data, test_data = generate_data(train_path, models_path,  28, 3, 0.25, 1991)\n",
    "ontology = load_ontologies(ontology_path)\n",
    "prompt_path = \"/content/drive/MyDrive/Prompt_Semantic/prompt123.txt\"\n",
    "chain_path1 = \"/content/drive/MyDrive/Prompt_Semantic/chain1.txt\"\n",
    "chain_path2 = \"/content/drive/MyDrive/Prompt_Semantic/chain2.txt\""
   ]
  },
  {
   "cell_type": "code",
   "execution_count": null,
   "metadata": {
    "vscode": {
     "languageId": "plaintext"
    }
   },
   "outputs": [],
   "source": [
    "from Prompt_Reason import generate_reason\n",
    "generate_reason(train_data, ontology, test_data, prompt_path, chain_path1, chain_path2, model)"
   ]
  }
 ],
 "metadata": {
  "language_info": {
   "name": "python"
  }
 },
 "nbformat": 4,
 "nbformat_minor": 2
}
